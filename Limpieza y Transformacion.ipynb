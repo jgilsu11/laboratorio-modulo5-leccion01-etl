{
 "cells": [
  {
   "cell_type": "code",
   "execution_count": 377,
   "metadata": {},
   "outputs": [],
   "source": [
    "# Para gestionar ficheros\n",
    "# -----------------------------------------------------------------------\n",
    "import os\n",
    "import glob\n",
    "\n",
    "# Para trabajar con access porque realmente se tendría que hacer desde la terminal pero esto nos lo simula y por eso es mejor hacerlo por aquí porque lo simplifica\n",
    "# -----------------------------------------------------------------------\n",
    "import subprocess\n",
    "\n",
    "\n",
    "# Para trabajar con DataFrames\n",
    "# -----------------------------------------------------------------------\n",
    "import pandas as pd\n",
    "\n",
    "\n",
    "# Para trabajar con regex\n",
    "# -----------------------------------------------------------------------\n",
    "import re\n",
    "\n",
    "# Para trabajar con ficheros\n",
    "# -----------------------------------------------------------------------\n",
    "import os\n",
    "\n",
    "\n",
    "# Para trabajar con los DataFrames\n",
    "# -----------------------------------------------------------------------\n",
    "import pandas as pd\n",
    "\n",
    "# Para poner barras progreso\n",
    "# -----------------------------------------------------------------------\n",
    "from tqdm import tqdm\n",
    "\n",
    "from datetime import datetime\n",
    "# Configuración\n",
    "# -----------------------------------------------------------------------\n",
    "pd.set_option('display.max_columns', None) # para poder visualizar todas las columnas de los DataFrames\n",
    "\n",
    "from datetime import datetime\n",
    "from dateutil.relativedelta import relativedelta\n",
    "\n",
    "# Ignorar warings\n",
    "# -----------------------------------------------------------------------\n",
    "import warnings\n",
    "warnings.filterwarnings(\"ignore\")"
   ]
  },
  {
   "cell_type": "code",
   "execution_count": 378,
   "metadata": {},
   "outputs": [],
   "source": [
    "df_poblacional= pd.read_csv(\"datos/datos_descargados_INE_poblacion/03001.csv\", encoding= 'latin-1', sep=';')\n",
    "df_economico= pd.read_csv(\"datos/datos_descargados_INE_/67284.csv\", encoding= 'latin-1', sep=';')"
   ]
  },
  {
   "cell_type": "markdown",
   "metadata": {},
   "source": [
    "Para el futuro el id de municipio nos puede ser util asi que vamos a aprovecharlo"
   ]
  },
  {
   "cell_type": "code",
   "execution_count": 379,
   "metadata": {},
   "outputs": [
    {
     "data": {
      "text/html": [
       "<div>\n",
       "<style scoped>\n",
       "    .dataframe tbody tr th:only-of-type {\n",
       "        vertical-align: middle;\n",
       "    }\n",
       "\n",
       "    .dataframe tbody tr th {\n",
       "        vertical-align: top;\n",
       "    }\n",
       "\n",
       "    .dataframe thead th {\n",
       "        text-align: right;\n",
       "    }\n",
       "</style>\n",
       "<table border=\"1\" class=\"dataframe\">\n",
       "  <thead>\n",
       "    <tr style=\"text-align: right;\">\n",
       "      <th></th>\n",
       "      <th>Provincias</th>\n",
       "      <th>Edad (3 grupos de edad)</th>\n",
       "      <th>Españoles/Extranjeros</th>\n",
       "      <th>Sexo</th>\n",
       "      <th>Año</th>\n",
       "      <th>Total</th>\n",
       "    </tr>\n",
       "  </thead>\n",
       "  <tbody>\n",
       "    <tr>\n",
       "      <th>7189</th>\n",
       "      <td>49 Zamora</td>\n",
       "      <td>65 y más</td>\n",
       "      <td>Extranjeros</td>\n",
       "      <td>Mujeres</td>\n",
       "      <td>2020</td>\n",
       "      <td>194</td>\n",
       "    </tr>\n",
       "    <tr>\n",
       "      <th>2065</th>\n",
       "      <td>39 Cantabria</td>\n",
       "      <td>0-15 años</td>\n",
       "      <td>Españoles</td>\n",
       "      <td>Hombres</td>\n",
       "      <td>2020</td>\n",
       "      <td>39.084</td>\n",
       "    </tr>\n",
       "    <tr>\n",
       "      <th>1830</th>\n",
       "      <td>10 Cáceres</td>\n",
       "      <td>16-64 años</td>\n",
       "      <td>% Extranjeros</td>\n",
       "      <td>Hombres</td>\n",
       "      <td>2021</td>\n",
       "      <td>4,10</td>\n",
       "    </tr>\n",
       "    <tr>\n",
       "      <th>5167</th>\n",
       "      <td>34 Palencia</td>\n",
       "      <td>65 y más</td>\n",
       "      <td>Extranjeros</td>\n",
       "      <td>Ambos sexos</td>\n",
       "      <td>2020</td>\n",
       "      <td>233</td>\n",
       "    </tr>\n",
       "    <tr>\n",
       "      <th>4378</th>\n",
       "      <td>28 Madrid</td>\n",
       "      <td>0-15 años</td>\n",
       "      <td>Extranjeros</td>\n",
       "      <td>Hombres</td>\n",
       "      <td>2020</td>\n",
       "      <td>70.360</td>\n",
       "    </tr>\n",
       "  </tbody>\n",
       "</table>\n",
       "</div>"
      ],
      "text/plain": [
       "        Provincias Edad (3 grupos de edad) Españoles/Extranjeros         Sexo  \\\n",
       "7189     49 Zamora                65 y más           Extranjeros      Mujeres   \n",
       "2065  39 Cantabria               0-15 años             Españoles      Hombres   \n",
       "1830    10 Cáceres              16-64 años         % Extranjeros      Hombres   \n",
       "5167   34 Palencia                65 y más           Extranjeros  Ambos sexos   \n",
       "4378     28 Madrid               0-15 años           Extranjeros      Hombres   \n",
       "\n",
       "       Año   Total  \n",
       "7189  2020     194  \n",
       "2065  2020  39.084  \n",
       "1830  2021    4,10  \n",
       "5167  2020     233  \n",
       "4378  2020  70.360  "
      ]
     },
     "execution_count": 379,
     "metadata": {},
     "output_type": "execute_result"
    }
   ],
   "source": [
    "df_poblacional.sample(5)"
   ]
  },
  {
   "cell_type": "code",
   "execution_count": 380,
   "metadata": {},
   "outputs": [
    {
     "data": {
      "text/html": [
       "<div>\n",
       "<style scoped>\n",
       "    .dataframe tbody tr th:only-of-type {\n",
       "        vertical-align: middle;\n",
       "    }\n",
       "\n",
       "    .dataframe tbody tr th {\n",
       "        vertical-align: top;\n",
       "    }\n",
       "\n",
       "    .dataframe thead th {\n",
       "        text-align: right;\n",
       "    }\n",
       "</style>\n",
       "<table border=\"1\" class=\"dataframe\">\n",
       "  <thead>\n",
       "    <tr style=\"text-align: right;\">\n",
       "      <th></th>\n",
       "      <th>Provincias</th>\n",
       "      <th>Ramas de actividad</th>\n",
       "      <th>periodo</th>\n",
       "      <th>Total</th>\n",
       "    </tr>\n",
       "  </thead>\n",
       "  <tbody>\n",
       "    <tr>\n",
       "      <th>804</th>\n",
       "      <td>22 Huesca</td>\n",
       "      <td>F. Construcción</td>\n",
       "      <td>2021(P)</td>\n",
       "      <td>442.920</td>\n",
       "    </tr>\n",
       "    <tr>\n",
       "      <th>282</th>\n",
       "      <td>08 Barcelona</td>\n",
       "      <td>K_N. Actividades financieras y de seguros, act...</td>\n",
       "      <td>2021(P)</td>\n",
       "      <td>42.975.113</td>\n",
       "    </tr>\n",
       "    <tr>\n",
       "      <th>480</th>\n",
       "      <td>12 Castellón/Castelló</td>\n",
       "      <td>K_N. Actividades financieras y de seguros, act...</td>\n",
       "      <td>2021(P)</td>\n",
       "      <td>2.748.923</td>\n",
       "    </tr>\n",
       "    <tr>\n",
       "      <th>1284</th>\n",
       "      <td>37 Salamanca</td>\n",
       "      <td>PRODUCTO INTERIOR BRUTO A PRECIOS DE MERCADO</td>\n",
       "      <td>2021(P)</td>\n",
       "      <td>7.289.859</td>\n",
       "    </tr>\n",
       "    <tr>\n",
       "      <th>1472</th>\n",
       "      <td>44 Teruel</td>\n",
       "      <td>K_N. Actividades financieras y de seguros, act...</td>\n",
       "      <td>2019</td>\n",
       "      <td>537.641</td>\n",
       "    </tr>\n",
       "  </tbody>\n",
       "</table>\n",
       "</div>"
      ],
      "text/plain": [
       "                 Provincias  \\\n",
       "804               22 Huesca   \n",
       "282            08 Barcelona   \n",
       "480   12 Castellón/Castelló   \n",
       "1284           37 Salamanca   \n",
       "1472              44 Teruel   \n",
       "\n",
       "                                     Ramas de actividad  periodo       Total  \n",
       "804                                     F. Construcción  2021(P)     442.920  \n",
       "282   K_N. Actividades financieras y de seguros, act...  2021(P)  42.975.113  \n",
       "480   K_N. Actividades financieras y de seguros, act...  2021(P)   2.748.923  \n",
       "1284       PRODUCTO INTERIOR BRUTO A PRECIOS DE MERCADO  2021(P)   7.289.859  \n",
       "1472  K_N. Actividades financieras y de seguros, act...     2019     537.641  "
      ]
     },
     "execution_count": 380,
     "metadata": {},
     "output_type": "execute_result"
    }
   ],
   "source": [
    "df_economico.sample(5)"
   ]
  },
  {
   "cell_type": "markdown",
   "metadata": {},
   "source": [
    "**Demanda Eléctrica:**\n",
    "\n",
    "- **Conversión de Timestamps:** Asegúrate de que las fechas estén correctamente formateadas en `datetime`. Si es necesario, convierte los datos a un formato uniforme (por ejemplo, `YYYY-MM` para datos mensuales). ***DONE***\n",
    "\n",
    "- **Tratamiento de Valores Nulos:** Identifica y maneja los valores nulos en caso de que los haya. Puedes optar por eliminar filas con valores faltantes. ***DONE***\n",
    "\n",
    "- **Estandarización de Nombres de Provincias:** Verifica que los nombres de las provincias estén estandarizados y coincidan en todos los conjuntos de datos. Si hay inconsistencias, corrígelas. ***DONE***"
   ]
  },
  {
   "cell_type": "markdown",
   "metadata": {},
   "source": [
    "INICIO LIMPIEZA Y CARGA DE DEMANDA (Esto es para leer, limpiar y juntar los datos de demanda)"
   ]
  },
  {
   "cell_type": "code",
   "execution_count": 381,
   "metadata": {},
   "outputs": [],
   "source": [
    "ruta_origen= r\"C:\\Users\\jaime\\Desktop\\Thepower\\Día15\\laboratorio-modulo5-leccion01-etl\\datos\\demanda\"\n",
    "df_todo_demanda= pd.DataFrame()\n",
    "for ccaa in os.listdir(ruta_origen):\n",
    "    df=pd.read_csv(f\"datos\\demanda\\{ccaa}\", index_col=0 )\n",
    "\n",
    "    ruta_ccaa = os.path.join(ruta_origen, ccaa)\n",
    "    nombreb= ccaa.split(\".csv\")\n",
    "    nombre_anio=nombreb[0].split(\"_\")\n",
    "    nombre_ccaa= nombre_anio[0]\n",
    "\n",
    "    df[\"ccaa\"]=nombre_ccaa\n",
    "    df_todo_demanda= pd.concat([df_todo_demanda,df], axis=0)\n"
   ]
  },
  {
   "cell_type": "code",
   "execution_count": 382,
   "metadata": {},
   "outputs": [],
   "source": [
    "df_todo_demanda.reset_index(drop=True, inplace=True)"
   ]
  },
  {
   "cell_type": "markdown",
   "metadata": {},
   "source": [
    "Quiero conseguir el formato correcto de fecha"
   ]
  },
  {
   "cell_type": "code",
   "execution_count": 383,
   "metadata": {},
   "outputs": [],
   "source": [
    "df_todo_demanda[\"datetime\"] = df_todo_demanda[\"datetime\"].apply(lambda x: pd.to_datetime(x).strftime('%Y-%m'))"
   ]
  },
  {
   "cell_type": "code",
   "execution_count": 386,
   "metadata": {},
   "outputs": [],
   "source": [
    "df_todo_demanda[\"month\"] = df_todo_demanda[\"datetime\"].apply(lambda x: pd.to_datetime(x).month)\n",
    "df_todo_demanda[\"year\"] = df_todo_demanda[\"datetime\"].apply(lambda x: pd.to_datetime(x).year)"
   ]
  },
  {
   "cell_type": "code",
   "execution_count": 388,
   "metadata": {},
   "outputs": [],
   "source": [
    "df_todo_demanda.drop(columns=\"datetime\", inplace= True)"
   ]
  },
  {
   "cell_type": "code",
   "execution_count": 389,
   "metadata": {},
   "outputs": [
    {
     "name": "stdout",
     "output_type": "stream",
     "text": [
      "<class 'pandas.core.frame.DataFrame'>\n",
      "RangeIndex: 684 entries, 0 to 683\n",
      "Data columns (total 6 columns):\n",
      " #   Column      Non-Null Count  Dtype  \n",
      "---  ------      --------------  -----  \n",
      " 0   value       684 non-null    float64\n",
      " 1   percentage  684 non-null    int64  \n",
      " 2   cod_ccaa    684 non-null    int64  \n",
      " 3   ccaa        684 non-null    object \n",
      " 4   month       684 non-null    int64  \n",
      " 5   year        684 non-null    int64  \n",
      "dtypes: float64(1), int64(4), object(1)\n",
      "memory usage: 32.2+ KB\n"
     ]
    }
   ],
   "source": [
    "df_todo_demanda.info()"
   ]
  },
  {
   "cell_type": "code",
   "execution_count": 350,
   "metadata": {},
   "outputs": [
    {
     "data": {
      "text/plain": [
       "array(['Andalucía', 'Aragón', 'Canarias', 'Cantabria',\n",
       "       'Castilla - La Mancha', 'Castilla y León', 'Cataluña', 'Ceuta',\n",
       "       'Comunidad de Madrid', 'Comunidad Foral de Navarra',\n",
       "       'Comunitat Valenciana', 'Extremadura', 'Galicia', 'Illes Balears',\n",
       "       'La Rioja', 'Melilla', 'País Vasco', 'Principado de Asturias',\n",
       "       'Región de Murcia'], dtype=object)"
      ]
     },
     "execution_count": 350,
     "metadata": {},
     "output_type": "execute_result"
    }
   ],
   "source": [
    "df_todo_demanda[\"ccaa\"].unique()"
   ]
  },
  {
   "cell_type": "code",
   "execution_count": 351,
   "metadata": {},
   "outputs": [
    {
     "data": {
      "text/plain": [
       "0      3668893.328\n",
       "1      3152278.091\n",
       "2      3216356.360\n",
       "3      3029639.973\n",
       "4      3154123.467\n",
       "          ...     \n",
       "679     901082.855\n",
       "680     793300.950\n",
       "681     707168.960\n",
       "682     723781.406\n",
       "683     781601.118\n",
       "Name: value, Length: 684, dtype: float64"
      ]
     },
     "execution_count": 351,
     "metadata": {},
     "output_type": "execute_result"
    }
   ],
   "source": [
    "df_todo_demanda[\"value\"]"
   ]
  },
  {
   "cell_type": "markdown",
   "metadata": {},
   "source": [
    "El value está en MWh"
   ]
  },
  {
   "cell_type": "markdown",
   "metadata": {},
   "source": [
    "Esto se podrá utilizar en el futuro para meter los cods"
   ]
  },
  {
   "cell_type": "code",
   "execution_count": 352,
   "metadata": {},
   "outputs": [],
   "source": [
    "cod_comunidades = {'Ceuta': 8744,\n",
    "                        'Melilla': 8745,\n",
    "                        'Andalucía': 4,\n",
    "                        'Aragón': 5,\n",
    "                        'Cantabria': 6,\n",
    "                        'Castilla - La Mancha': 7,\n",
    "                        'Castilla y León': 8,\n",
    "                        'Cataluña': 9,\n",
    "                        'País Vasco': 10,\n",
    "                        'Principado de Asturias': 11,\n",
    "                        'Comunidad de Madrid': 13,\n",
    "                        'Comunidad Foral de Navarra': 14,\n",
    "                        'Comunitat Valenciana': 15,\n",
    "                        'Extremadura': 16,\n",
    "                        'Galicia': 17,\n",
    "                        'Illes Balears': 8743,\n",
    "                        'Canarias': 8742,\n",
    "                        'Región de Murcia': 21,\n",
    "                        'La Rioja': 20}"
   ]
  },
  {
   "cell_type": "markdown",
   "metadata": {},
   "source": [
    "FIN DE CREACION Y LIMPIEZA DE DEMANDA (FALTA NOMBRES COLUMNAS) y estaría bien poner el código de municipio para la futura creacion de BBDD"
   ]
  },
  {
   "cell_type": "markdown",
   "metadata": {},
   "source": [
    "  - **Generación Eléctrica:**\n",
    "\n",
    "    - **Desagregación de Tecnologías:** Asegúrate de que los datos estén correctamente desglosados por tipo de energía. Revisa que los campos correspondientes a energía eólica, solar, hidroeléctrica, etc., estén bien identificados y sin errores.\n",
    "\n",
    "    - **Normalización de Unidades:** Verifica que las unidades de energía estén estandarizadas (por ejemplo, MWh). Realiza las conversiones necesarias si se encuentran en otras unidades.\n",
    "\n",
    "    - **Identificación de Outliers:** Revisa los valores extremos o atípicos en la generación de energía y decide si deben ser tratados o eliminados."
   ]
  },
  {
   "cell_type": "markdown",
   "metadata": {},
   "source": [
    "INICIO DE CARGA Y LIMPIEZA DE OFERTA "
   ]
  },
  {
   "cell_type": "code",
   "execution_count": 390,
   "metadata": {},
   "outputs": [],
   "source": [
    "ruta_origen= r\"C:\\Users\\jaime\\Desktop\\Thepower\\Día15\\laboratorio-modulo5-leccion01-etl\\datos\\oferta\"\n",
    "df_todo_oferta= pd.DataFrame()\n",
    "for ccaa in os.listdir(ruta_origen):\n",
    "    df=pd.read_csv(f\"datos\\oferta\\{ccaa}\", index_col=0 )\n",
    "\n",
    "    ruta_ccaa = os.path.join(ruta_origen, ccaa)\n",
    "    nombreb= ccaa.split(\".csv\")\n",
    "    nombre_anio=nombreb[0].split(\"_\")\n",
    "    nombre_ccaa= nombre_anio[0]\n",
    "\n",
    "    df[\"ccaa\"]=nombre_ccaa\n",
    "    df_todo_oferta= pd.concat([df_todo_oferta,df], axis=0)"
   ]
  },
  {
   "cell_type": "code",
   "execution_count": 391,
   "metadata": {},
   "outputs": [],
   "source": [
    "df_todo_oferta.reset_index(drop=True, inplace=True)"
   ]
  },
  {
   "cell_type": "markdown",
   "metadata": {},
   "source": [
    "Quiero conseguir el formato correcto de fecha"
   ]
  },
  {
   "cell_type": "code",
   "execution_count": 392,
   "metadata": {},
   "outputs": [],
   "source": [
    "df_todo_oferta[\"datetime\"] = df_todo_oferta[\"datetime\"].apply(lambda x: pd.to_datetime(x).strftime('%Y-%m'))"
   ]
  },
  {
   "cell_type": "code",
   "execution_count": 393,
   "metadata": {},
   "outputs": [],
   "source": [
    "df_todo_oferta[\"month\"] = df_todo_oferta[\"datetime\"].apply(lambda x: pd.to_datetime(x).month)\n",
    "df_todo_oferta[\"year\"] = df_todo_oferta[\"datetime\"].apply(lambda x: pd.to_datetime(x).year)"
   ]
  },
  {
   "cell_type": "code",
   "execution_count": 395,
   "metadata": {},
   "outputs": [
    {
     "ename": "KeyError",
     "evalue": "\"['datetime'] not found in axis\"",
     "output_type": "error",
     "traceback": [
      "\u001b[1;31m---------------------------------------------------------------------------\u001b[0m",
      "\u001b[1;31mKeyError\u001b[0m                                  Traceback (most recent call last)",
      "Cell \u001b[1;32mIn[395], line 1\u001b[0m\n\u001b[1;32m----> 1\u001b[0m \u001b[43mdf_todo_oferta\u001b[49m\u001b[38;5;241;43m.\u001b[39;49m\u001b[43mdrop\u001b[49m\u001b[43m(\u001b[49m\u001b[43mcolumns\u001b[49m\u001b[38;5;241;43m=\u001b[39;49m\u001b[38;5;124;43m\"\u001b[39;49m\u001b[38;5;124;43mdatetime\u001b[39;49m\u001b[38;5;124;43m\"\u001b[39;49m\u001b[43m,\u001b[49m\u001b[43m \u001b[49m\u001b[43minplace\u001b[49m\u001b[38;5;241;43m=\u001b[39;49m\u001b[43m \u001b[49m\u001b[38;5;28;43;01mTrue\u001b[39;49;00m\u001b[43m)\u001b[49m\n",
      "File \u001b[1;32m~\\AppData\\Local\\Packages\\PythonSoftwareFoundation.Python.3.11_qbz5n2kfra8p0\\LocalCache\\local-packages\\Python311\\site-packages\\pandas\\core\\frame.py:5581\u001b[0m, in \u001b[0;36mDataFrame.drop\u001b[1;34m(self, labels, axis, index, columns, level, inplace, errors)\u001b[0m\n\u001b[0;32m   5433\u001b[0m \u001b[38;5;28;01mdef\u001b[39;00m \u001b[38;5;21mdrop\u001b[39m(\n\u001b[0;32m   5434\u001b[0m     \u001b[38;5;28mself\u001b[39m,\n\u001b[0;32m   5435\u001b[0m     labels: IndexLabel \u001b[38;5;241m|\u001b[39m \u001b[38;5;28;01mNone\u001b[39;00m \u001b[38;5;241m=\u001b[39m \u001b[38;5;28;01mNone\u001b[39;00m,\n\u001b[1;32m   (...)\u001b[0m\n\u001b[0;32m   5442\u001b[0m     errors: IgnoreRaise \u001b[38;5;241m=\u001b[39m \u001b[38;5;124m\"\u001b[39m\u001b[38;5;124mraise\u001b[39m\u001b[38;5;124m\"\u001b[39m,\n\u001b[0;32m   5443\u001b[0m ) \u001b[38;5;241m-\u001b[39m\u001b[38;5;241m>\u001b[39m DataFrame \u001b[38;5;241m|\u001b[39m \u001b[38;5;28;01mNone\u001b[39;00m:\n\u001b[0;32m   5444\u001b[0m \u001b[38;5;250m    \u001b[39m\u001b[38;5;124;03m\"\"\"\u001b[39;00m\n\u001b[0;32m   5445\u001b[0m \u001b[38;5;124;03m    Drop specified labels from rows or columns.\u001b[39;00m\n\u001b[0;32m   5446\u001b[0m \n\u001b[1;32m   (...)\u001b[0m\n\u001b[0;32m   5579\u001b[0m \u001b[38;5;124;03m            weight  1.0     0.8\u001b[39;00m\n\u001b[0;32m   5580\u001b[0m \u001b[38;5;124;03m    \"\"\"\u001b[39;00m\n\u001b[1;32m-> 5581\u001b[0m     \u001b[38;5;28;01mreturn\u001b[39;00m \u001b[38;5;28;43msuper\u001b[39;49m\u001b[43m(\u001b[49m\u001b[43m)\u001b[49m\u001b[38;5;241;43m.\u001b[39;49m\u001b[43mdrop\u001b[49m\u001b[43m(\u001b[49m\n\u001b[0;32m   5582\u001b[0m \u001b[43m        \u001b[49m\u001b[43mlabels\u001b[49m\u001b[38;5;241;43m=\u001b[39;49m\u001b[43mlabels\u001b[49m\u001b[43m,\u001b[49m\n\u001b[0;32m   5583\u001b[0m \u001b[43m        \u001b[49m\u001b[43maxis\u001b[49m\u001b[38;5;241;43m=\u001b[39;49m\u001b[43maxis\u001b[49m\u001b[43m,\u001b[49m\n\u001b[0;32m   5584\u001b[0m \u001b[43m        \u001b[49m\u001b[43mindex\u001b[49m\u001b[38;5;241;43m=\u001b[39;49m\u001b[43mindex\u001b[49m\u001b[43m,\u001b[49m\n\u001b[0;32m   5585\u001b[0m \u001b[43m        \u001b[49m\u001b[43mcolumns\u001b[49m\u001b[38;5;241;43m=\u001b[39;49m\u001b[43mcolumns\u001b[49m\u001b[43m,\u001b[49m\n\u001b[0;32m   5586\u001b[0m \u001b[43m        \u001b[49m\u001b[43mlevel\u001b[49m\u001b[38;5;241;43m=\u001b[39;49m\u001b[43mlevel\u001b[49m\u001b[43m,\u001b[49m\n\u001b[0;32m   5587\u001b[0m \u001b[43m        \u001b[49m\u001b[43minplace\u001b[49m\u001b[38;5;241;43m=\u001b[39;49m\u001b[43minplace\u001b[49m\u001b[43m,\u001b[49m\n\u001b[0;32m   5588\u001b[0m \u001b[43m        \u001b[49m\u001b[43merrors\u001b[49m\u001b[38;5;241;43m=\u001b[39;49m\u001b[43merrors\u001b[49m\u001b[43m,\u001b[49m\n\u001b[0;32m   5589\u001b[0m \u001b[43m    \u001b[49m\u001b[43m)\u001b[49m\n",
      "File \u001b[1;32m~\\AppData\\Local\\Packages\\PythonSoftwareFoundation.Python.3.11_qbz5n2kfra8p0\\LocalCache\\local-packages\\Python311\\site-packages\\pandas\\core\\generic.py:4788\u001b[0m, in \u001b[0;36mNDFrame.drop\u001b[1;34m(self, labels, axis, index, columns, level, inplace, errors)\u001b[0m\n\u001b[0;32m   4786\u001b[0m \u001b[38;5;28;01mfor\u001b[39;00m axis, labels \u001b[38;5;129;01min\u001b[39;00m axes\u001b[38;5;241m.\u001b[39mitems():\n\u001b[0;32m   4787\u001b[0m     \u001b[38;5;28;01mif\u001b[39;00m labels \u001b[38;5;129;01mis\u001b[39;00m \u001b[38;5;129;01mnot\u001b[39;00m \u001b[38;5;28;01mNone\u001b[39;00m:\n\u001b[1;32m-> 4788\u001b[0m         obj \u001b[38;5;241m=\u001b[39m \u001b[43mobj\u001b[49m\u001b[38;5;241;43m.\u001b[39;49m\u001b[43m_drop_axis\u001b[49m\u001b[43m(\u001b[49m\u001b[43mlabels\u001b[49m\u001b[43m,\u001b[49m\u001b[43m \u001b[49m\u001b[43maxis\u001b[49m\u001b[43m,\u001b[49m\u001b[43m \u001b[49m\u001b[43mlevel\u001b[49m\u001b[38;5;241;43m=\u001b[39;49m\u001b[43mlevel\u001b[49m\u001b[43m,\u001b[49m\u001b[43m \u001b[49m\u001b[43merrors\u001b[49m\u001b[38;5;241;43m=\u001b[39;49m\u001b[43merrors\u001b[49m\u001b[43m)\u001b[49m\n\u001b[0;32m   4790\u001b[0m \u001b[38;5;28;01mif\u001b[39;00m inplace:\n\u001b[0;32m   4791\u001b[0m     \u001b[38;5;28mself\u001b[39m\u001b[38;5;241m.\u001b[39m_update_inplace(obj)\n",
      "File \u001b[1;32m~\\AppData\\Local\\Packages\\PythonSoftwareFoundation.Python.3.11_qbz5n2kfra8p0\\LocalCache\\local-packages\\Python311\\site-packages\\pandas\\core\\generic.py:4830\u001b[0m, in \u001b[0;36mNDFrame._drop_axis\u001b[1;34m(self, labels, axis, level, errors, only_slice)\u001b[0m\n\u001b[0;32m   4828\u001b[0m         new_axis \u001b[38;5;241m=\u001b[39m axis\u001b[38;5;241m.\u001b[39mdrop(labels, level\u001b[38;5;241m=\u001b[39mlevel, errors\u001b[38;5;241m=\u001b[39merrors)\n\u001b[0;32m   4829\u001b[0m     \u001b[38;5;28;01melse\u001b[39;00m:\n\u001b[1;32m-> 4830\u001b[0m         new_axis \u001b[38;5;241m=\u001b[39m \u001b[43maxis\u001b[49m\u001b[38;5;241;43m.\u001b[39;49m\u001b[43mdrop\u001b[49m\u001b[43m(\u001b[49m\u001b[43mlabels\u001b[49m\u001b[43m,\u001b[49m\u001b[43m \u001b[49m\u001b[43merrors\u001b[49m\u001b[38;5;241;43m=\u001b[39;49m\u001b[43merrors\u001b[49m\u001b[43m)\u001b[49m\n\u001b[0;32m   4831\u001b[0m     indexer \u001b[38;5;241m=\u001b[39m axis\u001b[38;5;241m.\u001b[39mget_indexer(new_axis)\n\u001b[0;32m   4833\u001b[0m \u001b[38;5;66;03m# Case for non-unique axis\u001b[39;00m\n\u001b[0;32m   4834\u001b[0m \u001b[38;5;28;01melse\u001b[39;00m:\n",
      "File \u001b[1;32m~\\AppData\\Local\\Packages\\PythonSoftwareFoundation.Python.3.11_qbz5n2kfra8p0\\LocalCache\\local-packages\\Python311\\site-packages\\pandas\\core\\indexes\\base.py:7070\u001b[0m, in \u001b[0;36mIndex.drop\u001b[1;34m(self, labels, errors)\u001b[0m\n\u001b[0;32m   7068\u001b[0m \u001b[38;5;28;01mif\u001b[39;00m mask\u001b[38;5;241m.\u001b[39many():\n\u001b[0;32m   7069\u001b[0m     \u001b[38;5;28;01mif\u001b[39;00m errors \u001b[38;5;241m!=\u001b[39m \u001b[38;5;124m\"\u001b[39m\u001b[38;5;124mignore\u001b[39m\u001b[38;5;124m\"\u001b[39m:\n\u001b[1;32m-> 7070\u001b[0m         \u001b[38;5;28;01mraise\u001b[39;00m \u001b[38;5;167;01mKeyError\u001b[39;00m(\u001b[38;5;124mf\u001b[39m\u001b[38;5;124m\"\u001b[39m\u001b[38;5;132;01m{\u001b[39;00mlabels[mask]\u001b[38;5;241m.\u001b[39mtolist()\u001b[38;5;132;01m}\u001b[39;00m\u001b[38;5;124m not found in axis\u001b[39m\u001b[38;5;124m\"\u001b[39m)\n\u001b[0;32m   7071\u001b[0m     indexer \u001b[38;5;241m=\u001b[39m indexer[\u001b[38;5;241m~\u001b[39mmask]\n\u001b[0;32m   7072\u001b[0m \u001b[38;5;28;01mreturn\u001b[39;00m \u001b[38;5;28mself\u001b[39m\u001b[38;5;241m.\u001b[39mdelete(indexer)\n",
      "\u001b[1;31mKeyError\u001b[0m: \"['datetime'] not found in axis\""
     ]
    }
   ],
   "source": [
    "df_todo_oferta.drop(columns=\"datetime\", inplace= True)"
   ]
  },
  {
   "cell_type": "code",
   "execution_count": 397,
   "metadata": {},
   "outputs": [
    {
     "data": {
      "text/html": [
       "<div>\n",
       "<style scoped>\n",
       "    .dataframe tbody tr th:only-of-type {\n",
       "        vertical-align: middle;\n",
       "    }\n",
       "\n",
       "    .dataframe tbody tr th {\n",
       "        vertical-align: top;\n",
       "    }\n",
       "\n",
       "    .dataframe thead th {\n",
       "        text-align: right;\n",
       "    }\n",
       "</style>\n",
       "<table border=\"1\" class=\"dataframe\">\n",
       "  <thead>\n",
       "    <tr style=\"text-align: right;\">\n",
       "      <th></th>\n",
       "      <th>value</th>\n",
       "      <th>percentage</th>\n",
       "      <th>type</th>\n",
       "      <th>cod_ccaa</th>\n",
       "      <th>ccaa</th>\n",
       "      <th>month</th>\n",
       "      <th>year</th>\n",
       "    </tr>\n",
       "  </thead>\n",
       "  <tbody>\n",
       "    <tr>\n",
       "      <th>2473</th>\n",
       "      <td>1.323001e+06</td>\n",
       "      <td>1.000000</td>\n",
       "      <td>Generación renovable</td>\n",
       "      <td>17</td>\n",
       "      <td>Galicia</td>\n",
       "      <td>5</td>\n",
       "      <td>2021</td>\n",
       "    </tr>\n",
       "    <tr>\n",
       "      <th>2014</th>\n",
       "      <td>3.074979e+04</td>\n",
       "      <td>0.074747</td>\n",
       "      <td>Solar fotovoltaica</td>\n",
       "      <td>15</td>\n",
       "      <td>Comunitat Valenciana</td>\n",
       "      <td>12</td>\n",
       "      <td>2021</td>\n",
       "    </tr>\n",
       "    <tr>\n",
       "      <th>414</th>\n",
       "      <td>3.727338e+03</td>\n",
       "      <td>0.019338</td>\n",
       "      <td>Hidroeólica</td>\n",
       "      <td>8742</td>\n",
       "      <td>Canarias</td>\n",
       "      <td>7</td>\n",
       "      <td>2019</td>\n",
       "    </tr>\n",
       "    <tr>\n",
       "      <th>3518</th>\n",
       "      <td>1.541308e+05</td>\n",
       "      <td>0.823251</td>\n",
       "      <td>Solar fotovoltaica</td>\n",
       "      <td>21</td>\n",
       "      <td>Región de Murcia</td>\n",
       "      <td>10</td>\n",
       "      <td>2021</td>\n",
       "    </tr>\n",
       "  </tbody>\n",
       "</table>\n",
       "</div>"
      ],
      "text/plain": [
       "             value  percentage                  type  cod_ccaa  \\\n",
       "2473  1.323001e+06    1.000000  Generación renovable        17   \n",
       "2014  3.074979e+04    0.074747    Solar fotovoltaica        15   \n",
       "414   3.727338e+03    0.019338           Hidroeólica      8742   \n",
       "3518  1.541308e+05    0.823251    Solar fotovoltaica        21   \n",
       "\n",
       "                      ccaa  month  year  \n",
       "2473               Galicia      5  2021  \n",
       "2014  Comunitat Valenciana     12  2021  \n",
       "414               Canarias      7  2019  \n",
       "3518      Región de Murcia     10  2021  "
      ]
     },
     "execution_count": 397,
     "metadata": {},
     "output_type": "execute_result"
    }
   ],
   "source": [
    "df_todo_oferta.sample(4)"
   ]
  },
  {
   "cell_type": "markdown",
   "metadata": {},
   "source": [
    "Me he dado cuenta que nos da los totales metidos en Generación renovable con porcentajes 1"
   ]
  },
  {
   "cell_type": "code",
   "execution_count": 359,
   "metadata": {},
   "outputs": [
    {
     "data": {
      "text/plain": [
       "array(['Hidráulica', 'Eólica', 'Solar fotovoltaica', 'Solar térmica',\n",
       "       'Otras renovables', 'Generación renovable', 'Hidroeólica',\n",
       "       'Residuos renovables'], dtype=object)"
      ]
     },
     "execution_count": 359,
     "metadata": {},
     "output_type": "execute_result"
    }
   ],
   "source": [
    "df_todo_oferta[\"type\"].unique()"
   ]
  },
  {
   "cell_type": "code",
   "execution_count": 360,
   "metadata": {},
   "outputs": [
    {
     "name": "stdout",
     "output_type": "stream",
     "text": [
      "<class 'pandas.core.frame.DataFrame'>\n",
      "RangeIndex: 3557 entries, 0 to 3556\n",
      "Data columns (total 6 columns):\n",
      " #   Column      Non-Null Count  Dtype         \n",
      "---  ------      --------------  -----         \n",
      " 0   value       3557 non-null   float64       \n",
      " 1   percentage  3557 non-null   float64       \n",
      " 2   datetime    3557 non-null   datetime64[ns]\n",
      " 3   type        3557 non-null   object        \n",
      " 4   cod_ccaa    3557 non-null   int64         \n",
      " 5   ccaa        3557 non-null   object        \n",
      "dtypes: datetime64[ns](1), float64(2), int64(1), object(2)\n",
      "memory usage: 166.9+ KB\n"
     ]
    }
   ],
   "source": [
    "df_todo_oferta.info()"
   ]
  },
  {
   "cell_type": "markdown",
   "metadata": {},
   "source": [
    "El value está en MWh"
   ]
  },
  {
   "cell_type": "code",
   "execution_count": 361,
   "metadata": {},
   "outputs": [
    {
     "data": {
      "text/html": [
       "<div>\n",
       "<style scoped>\n",
       "    .dataframe tbody tr th:only-of-type {\n",
       "        vertical-align: middle;\n",
       "    }\n",
       "\n",
       "    .dataframe tbody tr th {\n",
       "        vertical-align: top;\n",
       "    }\n",
       "\n",
       "    .dataframe thead th {\n",
       "        text-align: right;\n",
       "    }\n",
       "</style>\n",
       "<table border=\"1\" class=\"dataframe\">\n",
       "  <thead>\n",
       "    <tr style=\"text-align: right;\">\n",
       "      <th></th>\n",
       "      <th>value</th>\n",
       "      <th>percentage</th>\n",
       "      <th>datetime</th>\n",
       "      <th>type</th>\n",
       "      <th>cod_ccaa</th>\n",
       "      <th>ccaa</th>\n",
       "    </tr>\n",
       "  </thead>\n",
       "  <tbody>\n",
       "    <tr>\n",
       "      <th>2467</th>\n",
       "      <td>13857.7645</td>\n",
       "      <td>0.011945</td>\n",
       "      <td>2021-11-01</td>\n",
       "      <td>Residuos renovables</td>\n",
       "      <td>17</td>\n",
       "      <td>Galicia</td>\n",
       "    </tr>\n",
       "    <tr>\n",
       "      <th>2705</th>\n",
       "      <td>430.8380</td>\n",
       "      <td>0.004584</td>\n",
       "      <td>2019-09-01</td>\n",
       "      <td>Otras renovables</td>\n",
       "      <td>20</td>\n",
       "      <td>La Rioja</td>\n",
       "    </tr>\n",
       "    <tr>\n",
       "      <th>724</th>\n",
       "      <td>7105.8150</td>\n",
       "      <td>0.235056</td>\n",
       "      <td>2020-05-01</td>\n",
       "      <td>Otras renovables</td>\n",
       "      <td>6</td>\n",
       "      <td>Cantabria</td>\n",
       "    </tr>\n",
       "    <tr>\n",
       "      <th>1588</th>\n",
       "      <td>40801.2890</td>\n",
       "      <td>1.000000</td>\n",
       "      <td>2020-05-01</td>\n",
       "      <td>Generación renovable</td>\n",
       "      <td>13</td>\n",
       "      <td>Comunidad de Madrid</td>\n",
       "    </tr>\n",
       "  </tbody>\n",
       "</table>\n",
       "</div>"
      ],
      "text/plain": [
       "           value  percentage   datetime                  type  cod_ccaa  \\\n",
       "2467  13857.7645    0.011945 2021-11-01   Residuos renovables        17   \n",
       "2705    430.8380    0.004584 2019-09-01      Otras renovables        20   \n",
       "724    7105.8150    0.235056 2020-05-01      Otras renovables         6   \n",
       "1588  40801.2890    1.000000 2020-05-01  Generación renovable        13   \n",
       "\n",
       "                     ccaa  \n",
       "2467              Galicia  \n",
       "2705             La Rioja  \n",
       "724             Cantabria  \n",
       "1588  Comunidad de Madrid  "
      ]
     },
     "execution_count": 361,
     "metadata": {},
     "output_type": "execute_result"
    }
   ],
   "source": [
    "df_todo_oferta.sample(4)"
   ]
  },
  {
   "cell_type": "markdown",
   "metadata": {},
   "source": [
    "AQUÍ ACABA GENERACIÓN DE ENERGÍA (ESTÁS SIN HACER)"
   ]
  },
  {
   "cell_type": "markdown",
   "metadata": {},
   "source": [
    "  - **Datos Económicos:**\n",
    "\n",
    "    - **Normalización del PIB:** Si los datos del PIB están en diferentes unidades o escalas, asegúrate de normalizarlos para que sean comparables entre provincias.\n",
    "\n",
    "    - **Agrupación Temporal:** Si los datos económicos están disponibles en diferentes periodos temporales, agrúpalos y normalízalos para que coincidan con los datos eléctricos en términos de granularidad temporal (mensual o anual)."
   ]
  },
  {
   "cell_type": "markdown",
   "metadata": {},
   "source": [
    "INICIO INE ECONOMICO"
   ]
  },
  {
   "cell_type": "code",
   "execution_count": 362,
   "metadata": {},
   "outputs": [
    {
     "name": "stdout",
     "output_type": "stream",
     "text": [
      "<class 'pandas.core.frame.DataFrame'>\n",
      "RangeIndex: 1716 entries, 0 to 1715\n",
      "Data columns (total 4 columns):\n",
      " #   Column              Non-Null Count  Dtype \n",
      "---  ------              --------------  ----- \n",
      " 0   Provincias          1716 non-null   object\n",
      " 1   Ramas de actividad  1716 non-null   object\n",
      " 2   periodo             1716 non-null   object\n",
      " 3   Total               1716 non-null   object\n",
      "dtypes: object(4)\n",
      "memory usage: 53.8+ KB\n"
     ]
    }
   ],
   "source": [
    "df_economico.info()"
   ]
  },
  {
   "cell_type": "markdown",
   "metadata": {},
   "source": [
    "FIN DE INE ECONOMICA"
   ]
  },
  {
   "cell_type": "markdown",
   "metadata": {},
   "source": [
    "  - **Datos Demográficos:**\n",
    "\n",
    "    - **Consistencia en la Codificación de Provincias:** Asegúrate de que los nombres de las provincias en los datos demográficos coincidan con los nombres utilizados en los datos eléctricos.\n",
    "\n",
    "    - **Revisión de Categorías:** Verifica que las categorías de edad, sexo, y nacionalidad estén correctamente etiquetadas y sean consistentes en todo el dataset.\n",
    "\n",
    "    - **Manejo de Valores Faltantes:** Revisa la presencia de valores faltantes y decide cómo tratarlos (relleno, eliminación o sustitución)."
   ]
  },
  {
   "cell_type": "markdown",
   "metadata": {},
   "source": [
    "INICIO INE POBLACIONAL"
   ]
  },
  {
   "cell_type": "code",
   "execution_count": 363,
   "metadata": {},
   "outputs": [
    {
     "name": "stdout",
     "output_type": "stream",
     "text": [
      "<class 'pandas.core.frame.DataFrame'>\n",
      "RangeIndex: 7632 entries, 0 to 7631\n",
      "Data columns (total 6 columns):\n",
      " #   Column                   Non-Null Count  Dtype \n",
      "---  ------                   --------------  ----- \n",
      " 0   Provincias               7632 non-null   object\n",
      " 1   Edad (3 grupos de edad)  7632 non-null   object\n",
      " 2   Españoles/Extranjeros    7632 non-null   object\n",
      " 3   Sexo                     7632 non-null   object\n",
      " 4   Año                      7632 non-null   int64 \n",
      " 5   Total                    7632 non-null   object\n",
      "dtypes: int64(1), object(5)\n",
      "memory usage: 357.9+ KB\n"
     ]
    }
   ],
   "source": [
    "df_poblacional.info()"
   ]
  },
  {
   "cell_type": "markdown",
   "metadata": {},
   "source": [
    "FIN INE POBLACIONAL"
   ]
  }
 ],
 "metadata": {
  "kernelspec": {
   "display_name": "Python 3",
   "language": "python",
   "name": "python3"
  },
  "language_info": {
   "codemirror_mode": {
    "name": "ipython",
    "version": 3
   },
   "file_extension": ".py",
   "mimetype": "text/x-python",
   "name": "python",
   "nbconvert_exporter": "python",
   "pygments_lexer": "ipython3",
   "version": "3.11.9"
  }
 },
 "nbformat": 4,
 "nbformat_minor": 2
}
