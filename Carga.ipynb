{
 "cells": [
  {
   "cell_type": "code",
   "execution_count": 1,
   "metadata": {},
   "outputs": [],
   "source": [
    "# Para trabajar con ficheros\n",
    "# -----------------------------------------------------------------------\n",
    "import os\n",
    "\n",
    "\n",
    "# Para trabajar con los DataFrames\n",
    "# -----------------------------------------------------------------------\n",
    "import pandas as pd\n",
    "\n",
    "# Para poner barras progreso\n",
    "# -----------------------------------------------------------------------\n",
    "from tqdm import tqdm\n",
    "\n",
    "# -----------------------------------------------------------------------\n",
    "pd.set_option('display.max_columns', None) # para poder visualizar todas las columnas de los DataFrames\n",
    "\n",
    "from datetime import datetime\n",
    "\n",
    "\n",
    "# Ignorar warings\n",
    "# -----------------------------------------------------------------------\n",
    "import warnings\n",
    "warnings.filterwarnings(\"ignore\")"
   ]
  },
  {
   "cell_type": "code",
   "execution_count": 2,
   "metadata": {},
   "outputs": [],
   "source": [
    "df_economico=pd.read_csv(\"datos/datos_agregados/economico_agr.csv\", index_col= \"Unnamed: 0\")\n",
    "df_poblacional=pd.read_csv(\"datos/datos_agregados/poblacional_agr.csv\", index_col= \"Unnamed: 0\")\n",
    "df_todo_demanda=pd.read_csv(\"datos/datos_agregados/demanda_agr.csv\", index_col= \"Unnamed: 0\")\n",
    "df_todo_oferta=pd.read_csv(\"datos/datos_agregados/oferta_agr.csv\", index_col= \"Unnamed: 0\")"
   ]
  },
  {
   "cell_type": "code",
   "execution_count": 3,
   "metadata": {},
   "outputs": [
    {
     "data": {
      "text/html": [
       "<div>\n",
       "<style scoped>\n",
       "    .dataframe tbody tr th:only-of-type {\n",
       "        vertical-align: middle;\n",
       "    }\n",
       "\n",
       "    .dataframe tbody tr th {\n",
       "        vertical-align: top;\n",
       "    }\n",
       "\n",
       "    .dataframe thead th {\n",
       "        text-align: right;\n",
       "    }\n",
       "</style>\n",
       "<table border=\"1\" class=\"dataframe\">\n",
       "  <thead>\n",
       "    <tr style=\"text-align: right;\">\n",
       "      <th></th>\n",
       "      <th>value</th>\n",
       "      <th>percentage</th>\n",
       "      <th>type</th>\n",
       "      <th>cod_ccaa</th>\n",
       "      <th>ccaa</th>\n",
       "      <th>month</th>\n",
       "      <th>year</th>\n",
       "    </tr>\n",
       "  </thead>\n",
       "  <tbody>\n",
       "    <tr>\n",
       "      <th>0</th>\n",
       "      <td>25288.605</td>\n",
       "      <td>0.029517</td>\n",
       "      <td>Hidráulica</td>\n",
       "      <td>4</td>\n",
       "      <td>Andalucía</td>\n",
       "      <td>1</td>\n",
       "      <td>2019</td>\n",
       "    </tr>\n",
       "    <tr>\n",
       "      <th>1</th>\n",
       "      <td>33933.350</td>\n",
       "      <td>0.030779</td>\n",
       "      <td>Hidráulica</td>\n",
       "      <td>4</td>\n",
       "      <td>Andalucía</td>\n",
       "      <td>2</td>\n",
       "      <td>2019</td>\n",
       "    </tr>\n",
       "    <tr>\n",
       "      <th>2</th>\n",
       "      <td>35913.000</td>\n",
       "      <td>0.029645</td>\n",
       "      <td>Hidráulica</td>\n",
       "      <td>4</td>\n",
       "      <td>Andalucía</td>\n",
       "      <td>3</td>\n",
       "      <td>2019</td>\n",
       "    </tr>\n",
       "  </tbody>\n",
       "</table>\n",
       "</div>"
      ],
      "text/plain": [
       "       value  percentage        type  cod_ccaa       ccaa  month  year\n",
       "0  25288.605    0.029517  Hidráulica         4  Andalucía      1  2019\n",
       "1  33933.350    0.030779  Hidráulica         4  Andalucía      2  2019\n",
       "2  35913.000    0.029645  Hidráulica         4  Andalucía      3  2019"
      ]
     },
     "execution_count": 3,
     "metadata": {},
     "output_type": "execute_result"
    }
   ],
   "source": [
    "df_todo_oferta.head(3)"
   ]
  },
  {
   "cell_type": "code",
   "execution_count": 4,
   "metadata": {},
   "outputs": [
    {
     "name": "stdout",
     "output_type": "stream",
     "text": [
      "<class 'pandas.core.frame.DataFrame'>\n",
      "Index: 2909 entries, 0 to 2908\n",
      "Data columns (total 7 columns):\n",
      " #   Column      Non-Null Count  Dtype  \n",
      "---  ------      --------------  -----  \n",
      " 0   value       2909 non-null   float64\n",
      " 1   percentage  2909 non-null   float64\n",
      " 2   type        2909 non-null   object \n",
      " 3   cod_ccaa    2909 non-null   int64  \n",
      " 4   ccaa        2909 non-null   object \n",
      " 5   month       2909 non-null   int64  \n",
      " 6   year        2909 non-null   int64  \n",
      "dtypes: float64(2), int64(3), object(2)\n",
      "memory usage: 181.8+ KB\n"
     ]
    }
   ],
   "source": [
    "df_todo_oferta.info()"
   ]
  },
  {
   "cell_type": "code",
   "execution_count": 5,
   "metadata": {},
   "outputs": [
    {
     "data": {
      "text/html": [
       "<div>\n",
       "<style scoped>\n",
       "    .dataframe tbody tr th:only-of-type {\n",
       "        vertical-align: middle;\n",
       "    }\n",
       "\n",
       "    .dataframe tbody tr th {\n",
       "        vertical-align: top;\n",
       "    }\n",
       "\n",
       "    .dataframe thead th {\n",
       "        text-align: right;\n",
       "    }\n",
       "</style>\n",
       "<table border=\"1\" class=\"dataframe\">\n",
       "  <thead>\n",
       "    <tr style=\"text-align: right;\">\n",
       "      <th></th>\n",
       "      <th>value</th>\n",
       "      <th>percentage</th>\n",
       "      <th>cod_ccaa</th>\n",
       "      <th>ccaa</th>\n",
       "      <th>month</th>\n",
       "      <th>year</th>\n",
       "    </tr>\n",
       "  </thead>\n",
       "  <tbody>\n",
       "    <tr>\n",
       "      <th>0</th>\n",
       "      <td>3668893.328</td>\n",
       "      <td>1</td>\n",
       "      <td>4</td>\n",
       "      <td>Andalucía</td>\n",
       "      <td>1</td>\n",
       "      <td>2019</td>\n",
       "    </tr>\n",
       "    <tr>\n",
       "      <th>1</th>\n",
       "      <td>3152278.091</td>\n",
       "      <td>1</td>\n",
       "      <td>4</td>\n",
       "      <td>Andalucía</td>\n",
       "      <td>2</td>\n",
       "      <td>2019</td>\n",
       "    </tr>\n",
       "    <tr>\n",
       "      <th>2</th>\n",
       "      <td>3216356.360</td>\n",
       "      <td>1</td>\n",
       "      <td>4</td>\n",
       "      <td>Andalucía</td>\n",
       "      <td>3</td>\n",
       "      <td>2019</td>\n",
       "    </tr>\n",
       "  </tbody>\n",
       "</table>\n",
       "</div>"
      ],
      "text/plain": [
       "         value  percentage  cod_ccaa       ccaa  month  year\n",
       "0  3668893.328           1         4  Andalucía      1  2019\n",
       "1  3152278.091           1         4  Andalucía      2  2019\n",
       "2  3216356.360           1         4  Andalucía      3  2019"
      ]
     },
     "execution_count": 5,
     "metadata": {},
     "output_type": "execute_result"
    }
   ],
   "source": [
    "df_todo_demanda.head(3)"
   ]
  },
  {
   "cell_type": "code",
   "execution_count": 6,
   "metadata": {},
   "outputs": [
    {
     "name": "stdout",
     "output_type": "stream",
     "text": [
      "<class 'pandas.core.frame.DataFrame'>\n",
      "Index: 684 entries, 0 to 683\n",
      "Data columns (total 6 columns):\n",
      " #   Column      Non-Null Count  Dtype  \n",
      "---  ------      --------------  -----  \n",
      " 0   value       684 non-null    float64\n",
      " 1   percentage  684 non-null    int64  \n",
      " 2   cod_ccaa    684 non-null    int64  \n",
      " 3   ccaa        684 non-null    object \n",
      " 4   month       684 non-null    int64  \n",
      " 5   year        684 non-null    int64  \n",
      "dtypes: float64(1), int64(4), object(1)\n",
      "memory usage: 37.4+ KB\n"
     ]
    }
   ],
   "source": [
    "df_todo_demanda.info()"
   ]
  },
  {
   "cell_type": "code",
   "execution_count": 7,
   "metadata": {},
   "outputs": [
    {
     "data": {
      "text/html": [
       "<div>\n",
       "<style scoped>\n",
       "    .dataframe tbody tr th:only-of-type {\n",
       "        vertical-align: middle;\n",
       "    }\n",
       "\n",
       "    .dataframe tbody tr th {\n",
       "        vertical-align: top;\n",
       "    }\n",
       "\n",
       "    .dataframe thead th {\n",
       "        text-align: right;\n",
       "    }\n",
       "</style>\n",
       "<table border=\"1\" class=\"dataframe\">\n",
       "  <thead>\n",
       "    <tr style=\"text-align: right;\">\n",
       "      <th></th>\n",
       "      <th>Edad (3 grupos de edad)</th>\n",
       "      <th>Españoles/Extranjeros</th>\n",
       "      <th>Sexo</th>\n",
       "      <th>Año</th>\n",
       "      <th>Total</th>\n",
       "      <th>cod_prov</th>\n",
       "      <th>provincias</th>\n",
       "    </tr>\n",
       "  </thead>\n",
       "  <tbody>\n",
       "    <tr>\n",
       "      <th>0</th>\n",
       "      <td>0-15 años</td>\n",
       "      <td>Españoles</td>\n",
       "      <td>Hombres</td>\n",
       "      <td>2021</td>\n",
       "      <td>27304.0</td>\n",
       "      <td>2</td>\n",
       "      <td>Albacete</td>\n",
       "    </tr>\n",
       "    <tr>\n",
       "      <th>1</th>\n",
       "      <td>0-15 años</td>\n",
       "      <td>Españoles</td>\n",
       "      <td>Hombres</td>\n",
       "      <td>2020</td>\n",
       "      <td>27979.0</td>\n",
       "      <td>2</td>\n",
       "      <td>Albacete</td>\n",
       "    </tr>\n",
       "    <tr>\n",
       "      <th>2</th>\n",
       "      <td>0-15 años</td>\n",
       "      <td>Españoles</td>\n",
       "      <td>Hombres</td>\n",
       "      <td>2019</td>\n",
       "      <td>28513.0</td>\n",
       "      <td>2</td>\n",
       "      <td>Albacete</td>\n",
       "    </tr>\n",
       "  </tbody>\n",
       "</table>\n",
       "</div>"
      ],
      "text/plain": [
       "  Edad (3 grupos de edad) Españoles/Extranjeros     Sexo   Año    Total  \\\n",
       "0               0-15 años             Españoles  Hombres  2021  27304.0   \n",
       "1               0-15 años             Españoles  Hombres  2020  27979.0   \n",
       "2               0-15 años             Españoles  Hombres  2019  28513.0   \n",
       "\n",
       "   cod_prov provincias  \n",
       "0         2   Albacete  \n",
       "1         2   Albacete  \n",
       "2         2   Albacete  "
      ]
     },
     "execution_count": 7,
     "metadata": {},
     "output_type": "execute_result"
    }
   ],
   "source": [
    "df_poblacional.head(3)"
   ]
  },
  {
   "cell_type": "code",
   "execution_count": 8,
   "metadata": {},
   "outputs": [
    {
     "name": "stdout",
     "output_type": "stream",
     "text": [
      "<class 'pandas.core.frame.DataFrame'>\n",
      "Index: 1872 entries, 0 to 1871\n",
      "Data columns (total 7 columns):\n",
      " #   Column                   Non-Null Count  Dtype  \n",
      "---  ------                   --------------  -----  \n",
      " 0   Edad (3 grupos de edad)  1872 non-null   object \n",
      " 1   Españoles/Extranjeros    1872 non-null   object \n",
      " 2   Sexo                     1872 non-null   object \n",
      " 3   Año                      1872 non-null   int64  \n",
      " 4   Total                    1872 non-null   float64\n",
      " 5   cod_prov                 1872 non-null   int64  \n",
      " 6   provincias               1872 non-null   object \n",
      "dtypes: float64(1), int64(2), object(4)\n",
      "memory usage: 117.0+ KB\n"
     ]
    }
   ],
   "source": [
    "df_poblacional.info()"
   ]
  },
  {
   "cell_type": "code",
   "execution_count": 9,
   "metadata": {},
   "outputs": [
    {
     "data": {
      "text/html": [
       "<div>\n",
       "<style scoped>\n",
       "    .dataframe tbody tr th:only-of-type {\n",
       "        vertical-align: middle;\n",
       "    }\n",
       "\n",
       "    .dataframe tbody tr th {\n",
       "        vertical-align: top;\n",
       "    }\n",
       "\n",
       "    .dataframe thead th {\n",
       "        text-align: right;\n",
       "    }\n",
       "</style>\n",
       "<table border=\"1\" class=\"dataframe\">\n",
       "  <thead>\n",
       "    <tr style=\"text-align: right;\">\n",
       "      <th></th>\n",
       "      <th>periodo</th>\n",
       "      <th>Total</th>\n",
       "      <th>cod_prov</th>\n",
       "      <th>provincias</th>\n",
       "      <th>cod_actividad</th>\n",
       "      <th>ramas de actividad</th>\n",
       "    </tr>\n",
       "  </thead>\n",
       "  <tbody>\n",
       "    <tr>\n",
       "      <th>0</th>\n",
       "      <td>2021</td>\n",
       "      <td>884324</td>\n",
       "      <td>2</td>\n",
       "      <td>Albacete</td>\n",
       "      <td>1</td>\n",
       "      <td>Agricultura, ganadería, silvicultura y pesca</td>\n",
       "    </tr>\n",
       "    <tr>\n",
       "      <th>1</th>\n",
       "      <td>2020</td>\n",
       "      <td>768976</td>\n",
       "      <td>2</td>\n",
       "      <td>Albacete</td>\n",
       "      <td>1</td>\n",
       "      <td>Agricultura, ganadería, silvicultura y pesca</td>\n",
       "    </tr>\n",
       "    <tr>\n",
       "      <th>2</th>\n",
       "      <td>2019</td>\n",
       "      <td>791464</td>\n",
       "      <td>2</td>\n",
       "      <td>Albacete</td>\n",
       "      <td>1</td>\n",
       "      <td>Agricultura, ganadería, silvicultura y pesca</td>\n",
       "    </tr>\n",
       "  </tbody>\n",
       "</table>\n",
       "</div>"
      ],
      "text/plain": [
       "   periodo   Total  cod_prov provincias  cod_actividad  \\\n",
       "0     2021  884324         2   Albacete              1   \n",
       "1     2020  768976         2   Albacete              1   \n",
       "2     2019  791464         2   Albacete              1   \n",
       "\n",
       "                              ramas de actividad  \n",
       "0   Agricultura, ganadería, silvicultura y pesca  \n",
       "1   Agricultura, ganadería, silvicultura y pesca  \n",
       "2   Agricultura, ganadería, silvicultura y pesca  "
      ]
     },
     "execution_count": 9,
     "metadata": {},
     "output_type": "execute_result"
    }
   ],
   "source": [
    "df_economico.head(3)"
   ]
  },
  {
   "cell_type": "code",
   "execution_count": 10,
   "metadata": {},
   "outputs": [
    {
     "name": "stdout",
     "output_type": "stream",
     "text": [
      "<class 'pandas.core.frame.DataFrame'>\n",
      "Index: 1092 entries, 0 to 1091\n",
      "Data columns (total 6 columns):\n",
      " #   Column              Non-Null Count  Dtype \n",
      "---  ------              --------------  ----- \n",
      " 0   periodo             1092 non-null   int64 \n",
      " 1   Total               1092 non-null   int64 \n",
      " 2   cod_prov            1092 non-null   int64 \n",
      " 3   provincias          1092 non-null   object\n",
      " 4   cod_actividad       1092 non-null   int64 \n",
      " 5   ramas de actividad  1092 non-null   object\n",
      "dtypes: int64(4), object(2)\n",
      "memory usage: 59.7+ KB\n"
     ]
    }
   ],
   "source": [
    "df_economico.info()"
   ]
  },
  {
   "cell_type": "markdown",
   "metadata": {},
   "source": [
    "EMPIEZO CREANDO LAS TABLAS SIN FK"
   ]
  },
  {
   "cell_type": "code",
   "execution_count": 11,
   "metadata": {},
   "outputs": [],
   "source": [
    "def crear_id(df_anti,nombre_col_antigua,nombre_col_nueva,nombre_col_id_nuevo):\n",
    "    anio= pd.DataFrame()\n",
    "    anio[nombre_col_nueva]=df_anti[nombre_col_antigua].unique()\n",
    "    anio.index=anio.index+1\n",
    "    df_nuevo=anio.reset_index().rename(columns={'index': nombre_col_id_nuevo})\n",
    "    return df_nuevo\n"
   ]
  },
  {
   "cell_type": "code",
   "execution_count": 12,
   "metadata": {},
   "outputs": [],
   "source": [
    "df_anio=crear_id(df_economico,\"periodo\",\"anio\",\"id_anio\")"
   ]
  },
  {
   "cell_type": "code",
   "execution_count": 13,
   "metadata": {},
   "outputs": [
    {
     "data": {
      "text/html": [
       "<div>\n",
       "<style scoped>\n",
       "    .dataframe tbody tr th:only-of-type {\n",
       "        vertical-align: middle;\n",
       "    }\n",
       "\n",
       "    .dataframe tbody tr th {\n",
       "        vertical-align: top;\n",
       "    }\n",
       "\n",
       "    .dataframe thead th {\n",
       "        text-align: right;\n",
       "    }\n",
       "</style>\n",
       "<table border=\"1\" class=\"dataframe\">\n",
       "  <thead>\n",
       "    <tr style=\"text-align: right;\">\n",
       "      <th></th>\n",
       "      <th>id_anio</th>\n",
       "      <th>anio</th>\n",
       "    </tr>\n",
       "  </thead>\n",
       "  <tbody>\n",
       "    <tr>\n",
       "      <th>0</th>\n",
       "      <td>1</td>\n",
       "      <td>2021</td>\n",
       "    </tr>\n",
       "    <tr>\n",
       "      <th>1</th>\n",
       "      <td>2</td>\n",
       "      <td>2020</td>\n",
       "    </tr>\n",
       "    <tr>\n",
       "      <th>2</th>\n",
       "      <td>3</td>\n",
       "      <td>2019</td>\n",
       "    </tr>\n",
       "  </tbody>\n",
       "</table>\n",
       "</div>"
      ],
      "text/plain": [
       "   id_anio  anio\n",
       "0        1  2021\n",
       "1        2  2020\n",
       "2        3  2019"
      ]
     },
     "execution_count": 13,
     "metadata": {},
     "output_type": "execute_result"
    }
   ],
   "source": [
    "df_anio"
   ]
  },
  {
   "cell_type": "code",
   "execution_count": 14,
   "metadata": {},
   "outputs": [],
   "source": [
    "df_actividad=pd.DataFrame()\n",
    "df_actividad[\"actividad\"] =df_economico[\"ramas de actividad\"].unique()\n",
    "df_actividad[\"id_actividad\"]= df_economico[\"cod_actividad\"].unique()"
   ]
  },
  {
   "cell_type": "code",
   "execution_count": 15,
   "metadata": {},
   "outputs": [
    {
     "data": {
      "text/html": [
       "<div>\n",
       "<style scoped>\n",
       "    .dataframe tbody tr th:only-of-type {\n",
       "        vertical-align: middle;\n",
       "    }\n",
       "\n",
       "    .dataframe tbody tr th {\n",
       "        vertical-align: top;\n",
       "    }\n",
       "\n",
       "    .dataframe thead th {\n",
       "        text-align: right;\n",
       "    }\n",
       "</style>\n",
       "<table border=\"1\" class=\"dataframe\">\n",
       "  <thead>\n",
       "    <tr style=\"text-align: right;\">\n",
       "      <th></th>\n",
       "      <th>actividad</th>\n",
       "      <th>id_actividad</th>\n",
       "    </tr>\n",
       "  </thead>\n",
       "  <tbody>\n",
       "    <tr>\n",
       "      <th>0</th>\n",
       "      <td>Agricultura, ganadería, silvicultura y pesca</td>\n",
       "      <td>1</td>\n",
       "    </tr>\n",
       "    <tr>\n",
       "      <th>1</th>\n",
       "      <td>Industrias extractivas, industria manufacture...</td>\n",
       "      <td>2</td>\n",
       "    </tr>\n",
       "    <tr>\n",
       "      <th>2</th>\n",
       "      <td>- De las cuales: Industria manufacturera</td>\n",
       "      <td>3</td>\n",
       "    </tr>\n",
       "    <tr>\n",
       "      <th>3</th>\n",
       "      <td>Construcción</td>\n",
       "      <td>7</td>\n",
       "    </tr>\n",
       "    <tr>\n",
       "      <th>4</th>\n",
       "      <td>Comercio al por mayor y al por menor, reparac...</td>\n",
       "      <td>4</td>\n",
       "    </tr>\n",
       "    <tr>\n",
       "      <th>5</th>\n",
       "      <td>Actividades financieras y de seguros, activid...</td>\n",
       "      <td>5</td>\n",
       "    </tr>\n",
       "    <tr>\n",
       "      <th>6</th>\n",
       "      <td>Administración pública y defensa, seguridad s...</td>\n",
       "      <td>6</td>\n",
       "    </tr>\n",
       "  </tbody>\n",
       "</table>\n",
       "</div>"
      ],
      "text/plain": [
       "                                           actividad  id_actividad\n",
       "0       Agricultura, ganadería, silvicultura y pesca             1\n",
       "1   Industrias extractivas, industria manufacture...             2\n",
       "2           - De las cuales: Industria manufacturera             3\n",
       "3                                       Construcción             7\n",
       "4   Comercio al por mayor y al por menor, reparac...             4\n",
       "5   Actividades financieras y de seguros, activid...             5\n",
       "6   Administración pública y defensa, seguridad s...             6"
      ]
     },
     "execution_count": 15,
     "metadata": {},
     "output_type": "execute_result"
    }
   ],
   "source": [
    "df_actividad"
   ]
  },
  {
   "cell_type": "code",
   "execution_count": 16,
   "metadata": {},
   "outputs": [],
   "source": [
    "df_nacionalidad=crear_id(df_poblacional,\"Españoles/Extranjeros\",\"nacionalidad\",\"id_nacionalidad\")"
   ]
  },
  {
   "cell_type": "code",
   "execution_count": 17,
   "metadata": {},
   "outputs": [
    {
     "data": {
      "text/html": [
       "<div>\n",
       "<style scoped>\n",
       "    .dataframe tbody tr th:only-of-type {\n",
       "        vertical-align: middle;\n",
       "    }\n",
       "\n",
       "    .dataframe tbody tr th {\n",
       "        vertical-align: top;\n",
       "    }\n",
       "\n",
       "    .dataframe thead th {\n",
       "        text-align: right;\n",
       "    }\n",
       "</style>\n",
       "<table border=\"1\" class=\"dataframe\">\n",
       "  <thead>\n",
       "    <tr style=\"text-align: right;\">\n",
       "      <th></th>\n",
       "      <th>id_nacionalidad</th>\n",
       "      <th>nacionalidad</th>\n",
       "    </tr>\n",
       "  </thead>\n",
       "  <tbody>\n",
       "    <tr>\n",
       "      <th>0</th>\n",
       "      <td>1</td>\n",
       "      <td>Españoles</td>\n",
       "    </tr>\n",
       "    <tr>\n",
       "      <th>1</th>\n",
       "      <td>2</td>\n",
       "      <td>Extranjeros</td>\n",
       "    </tr>\n",
       "  </tbody>\n",
       "</table>\n",
       "</div>"
      ],
      "text/plain": [
       "   id_nacionalidad nacionalidad\n",
       "0                1    Españoles\n",
       "1                2  Extranjeros"
      ]
     },
     "execution_count": 17,
     "metadata": {},
     "output_type": "execute_result"
    }
   ],
   "source": [
    "df_nacionalidad"
   ]
  },
  {
   "cell_type": "code",
   "execution_count": 18,
   "metadata": {},
   "outputs": [],
   "source": [
    "df_sexo=crear_id(df_poblacional,\"Sexo\",\"sexo\",\"id_sexo\")"
   ]
  },
  {
   "cell_type": "code",
   "execution_count": 19,
   "metadata": {},
   "outputs": [
    {
     "data": {
      "text/html": [
       "<div>\n",
       "<style scoped>\n",
       "    .dataframe tbody tr th:only-of-type {\n",
       "        vertical-align: middle;\n",
       "    }\n",
       "\n",
       "    .dataframe tbody tr th {\n",
       "        vertical-align: top;\n",
       "    }\n",
       "\n",
       "    .dataframe thead th {\n",
       "        text-align: right;\n",
       "    }\n",
       "</style>\n",
       "<table border=\"1\" class=\"dataframe\">\n",
       "  <thead>\n",
       "    <tr style=\"text-align: right;\">\n",
       "      <th></th>\n",
       "      <th>id_sexo</th>\n",
       "      <th>sexo</th>\n",
       "    </tr>\n",
       "  </thead>\n",
       "  <tbody>\n",
       "    <tr>\n",
       "      <th>0</th>\n",
       "      <td>1</td>\n",
       "      <td>Hombres</td>\n",
       "    </tr>\n",
       "    <tr>\n",
       "      <th>1</th>\n",
       "      <td>2</td>\n",
       "      <td>Mujeres</td>\n",
       "    </tr>\n",
       "  </tbody>\n",
       "</table>\n",
       "</div>"
      ],
      "text/plain": [
       "   id_sexo     sexo\n",
       "0        1  Hombres\n",
       "1        2  Mujeres"
      ]
     },
     "execution_count": 19,
     "metadata": {},
     "output_type": "execute_result"
    }
   ],
   "source": [
    "df_sexo"
   ]
  },
  {
   "cell_type": "code",
   "execution_count": 20,
   "metadata": {},
   "outputs": [],
   "source": [
    "df_edad=crear_id(df_poblacional,\"Edad (3 grupos de edad)\",\"rango_edad\",\"id_rango_edad\")"
   ]
  },
  {
   "cell_type": "code",
   "execution_count": 21,
   "metadata": {},
   "outputs": [
    {
     "data": {
      "text/html": [
       "<div>\n",
       "<style scoped>\n",
       "    .dataframe tbody tr th:only-of-type {\n",
       "        vertical-align: middle;\n",
       "    }\n",
       "\n",
       "    .dataframe tbody tr th {\n",
       "        vertical-align: top;\n",
       "    }\n",
       "\n",
       "    .dataframe thead th {\n",
       "        text-align: right;\n",
       "    }\n",
       "</style>\n",
       "<table border=\"1\" class=\"dataframe\">\n",
       "  <thead>\n",
       "    <tr style=\"text-align: right;\">\n",
       "      <th></th>\n",
       "      <th>id_rango_edad</th>\n",
       "      <th>rango_edad</th>\n",
       "    </tr>\n",
       "  </thead>\n",
       "  <tbody>\n",
       "    <tr>\n",
       "      <th>0</th>\n",
       "      <td>1</td>\n",
       "      <td>0-15 años</td>\n",
       "    </tr>\n",
       "    <tr>\n",
       "      <th>1</th>\n",
       "      <td>2</td>\n",
       "      <td>16-64 años</td>\n",
       "    </tr>\n",
       "    <tr>\n",
       "      <th>2</th>\n",
       "      <td>3</td>\n",
       "      <td>65 y más</td>\n",
       "    </tr>\n",
       "  </tbody>\n",
       "</table>\n",
       "</div>"
      ],
      "text/plain": [
       "   id_rango_edad  rango_edad\n",
       "0              1   0-15 años\n",
       "1              2  16-64 años\n",
       "2              3    65 y más"
      ]
     },
     "execution_count": 21,
     "metadata": {},
     "output_type": "execute_result"
    }
   ],
   "source": [
    "df_edad"
   ]
  },
  {
   "cell_type": "code",
   "execution_count": 22,
   "metadata": {},
   "outputs": [],
   "source": [
    "df_type=crear_id(df_todo_oferta,\"type\",\"type\",\"id_type\")"
   ]
  },
  {
   "cell_type": "code",
   "execution_count": 23,
   "metadata": {},
   "outputs": [
    {
     "data": {
      "text/html": [
       "<div>\n",
       "<style scoped>\n",
       "    .dataframe tbody tr th:only-of-type {\n",
       "        vertical-align: middle;\n",
       "    }\n",
       "\n",
       "    .dataframe tbody tr th {\n",
       "        vertical-align: top;\n",
       "    }\n",
       "\n",
       "    .dataframe thead th {\n",
       "        text-align: right;\n",
       "    }\n",
       "</style>\n",
       "<table border=\"1\" class=\"dataframe\">\n",
       "  <thead>\n",
       "    <tr style=\"text-align: right;\">\n",
       "      <th></th>\n",
       "      <th>id_type</th>\n",
       "      <th>type</th>\n",
       "    </tr>\n",
       "  </thead>\n",
       "  <tbody>\n",
       "    <tr>\n",
       "      <th>0</th>\n",
       "      <td>1</td>\n",
       "      <td>Hidráulica</td>\n",
       "    </tr>\n",
       "    <tr>\n",
       "      <th>1</th>\n",
       "      <td>2</td>\n",
       "      <td>Eólica</td>\n",
       "    </tr>\n",
       "    <tr>\n",
       "      <th>2</th>\n",
       "      <td>3</td>\n",
       "      <td>Solar fotovoltaica</td>\n",
       "    </tr>\n",
       "    <tr>\n",
       "      <th>3</th>\n",
       "      <td>4</td>\n",
       "      <td>Solar térmica</td>\n",
       "    </tr>\n",
       "    <tr>\n",
       "      <th>4</th>\n",
       "      <td>5</td>\n",
       "      <td>Otras renovables</td>\n",
       "    </tr>\n",
       "    <tr>\n",
       "      <th>5</th>\n",
       "      <td>6</td>\n",
       "      <td>Hidroeólica</td>\n",
       "    </tr>\n",
       "    <tr>\n",
       "      <th>6</th>\n",
       "      <td>7</td>\n",
       "      <td>Residuos renovables</td>\n",
       "    </tr>\n",
       "  </tbody>\n",
       "</table>\n",
       "</div>"
      ],
      "text/plain": [
       "   id_type                 type\n",
       "0        1           Hidráulica\n",
       "1        2               Eólica\n",
       "2        3   Solar fotovoltaica\n",
       "3        4        Solar térmica\n",
       "4        5     Otras renovables\n",
       "5        6          Hidroeólica\n",
       "6        7  Residuos renovables"
      ]
     },
     "execution_count": 23,
     "metadata": {},
     "output_type": "execute_result"
    }
   ],
   "source": [
    "df_type"
   ]
  },
  {
   "cell_type": "code",
   "execution_count": 24,
   "metadata": {},
   "outputs": [],
   "source": [
    "df_CCAA=pd.DataFrame()\n",
    "df_CCAA[\"ccaa\"] =df_todo_demanda[\"ccaa\"].unique()\n",
    "df_CCAA[\"id_ccaa\"]= df_todo_demanda[\"cod_ccaa\"].unique()"
   ]
  },
  {
   "cell_type": "code",
   "execution_count": 25,
   "metadata": {},
   "outputs": [
    {
     "data": {
      "text/html": [
       "<div>\n",
       "<style scoped>\n",
       "    .dataframe tbody tr th:only-of-type {\n",
       "        vertical-align: middle;\n",
       "    }\n",
       "\n",
       "    .dataframe tbody tr th {\n",
       "        vertical-align: top;\n",
       "    }\n",
       "\n",
       "    .dataframe thead th {\n",
       "        text-align: right;\n",
       "    }\n",
       "</style>\n",
       "<table border=\"1\" class=\"dataframe\">\n",
       "  <thead>\n",
       "    <tr style=\"text-align: right;\">\n",
       "      <th></th>\n",
       "      <th>ccaa</th>\n",
       "      <th>id_ccaa</th>\n",
       "    </tr>\n",
       "  </thead>\n",
       "  <tbody>\n",
       "    <tr>\n",
       "      <th>0</th>\n",
       "      <td>Andalucía</td>\n",
       "      <td>4</td>\n",
       "    </tr>\n",
       "    <tr>\n",
       "      <th>1</th>\n",
       "      <td>Aragón</td>\n",
       "      <td>5</td>\n",
       "    </tr>\n",
       "    <tr>\n",
       "      <th>2</th>\n",
       "      <td>Canarias</td>\n",
       "      <td>8742</td>\n",
       "    </tr>\n",
       "  </tbody>\n",
       "</table>\n",
       "</div>"
      ],
      "text/plain": [
       "        ccaa  id_ccaa\n",
       "0  Andalucía        4\n",
       "1     Aragón        5\n",
       "2   Canarias     8742"
      ]
     },
     "execution_count": 25,
     "metadata": {},
     "output_type": "execute_result"
    }
   ],
   "source": [
    "df_CCAA.head(3)"
   ]
  },
  {
   "cell_type": "code",
   "execution_count": 26,
   "metadata": {},
   "outputs": [],
   "source": [
    "df_provincia=pd.DataFrame()\n",
    "df_provincia[\"provincia\"] =df_economico[\"provincias\"].unique()\n",
    "df_provincia[\"id_provincia\"]= df_economico[\"cod_prov\"].unique()"
   ]
  },
  {
   "cell_type": "code",
   "execution_count": 27,
   "metadata": {},
   "outputs": [
    {
     "data": {
      "text/html": [
       "<div>\n",
       "<style scoped>\n",
       "    .dataframe tbody tr th:only-of-type {\n",
       "        vertical-align: middle;\n",
       "    }\n",
       "\n",
       "    .dataframe tbody tr th {\n",
       "        vertical-align: top;\n",
       "    }\n",
       "\n",
       "    .dataframe thead th {\n",
       "        text-align: right;\n",
       "    }\n",
       "</style>\n",
       "<table border=\"1\" class=\"dataframe\">\n",
       "  <thead>\n",
       "    <tr style=\"text-align: right;\">\n",
       "      <th></th>\n",
       "      <th>provincia</th>\n",
       "      <th>id_provincia</th>\n",
       "    </tr>\n",
       "  </thead>\n",
       "  <tbody>\n",
       "    <tr>\n",
       "      <th>0</th>\n",
       "      <td>Albacete</td>\n",
       "      <td>2</td>\n",
       "    </tr>\n",
       "    <tr>\n",
       "      <th>1</th>\n",
       "      <td>Alicante/Alacant</td>\n",
       "      <td>3</td>\n",
       "    </tr>\n",
       "    <tr>\n",
       "      <th>2</th>\n",
       "      <td>Almería</td>\n",
       "      <td>4</td>\n",
       "    </tr>\n",
       "  </tbody>\n",
       "</table>\n",
       "</div>"
      ],
      "text/plain": [
       "          provincia  id_provincia\n",
       "0          Albacete             2\n",
       "1  Alicante/Alacant             3\n",
       "2           Almería             4"
      ]
     },
     "execution_count": 27,
     "metadata": {},
     "output_type": "execute_result"
    }
   ],
   "source": [
    "df_provincia.head(3)"
   ]
  },
  {
   "cell_type": "markdown",
   "metadata": {},
   "source": [
    "EMPEZAMOS CON LAS TABLAS HEAVIES"
   ]
  },
  {
   "cell_type": "markdown",
   "metadata": {},
   "source": [
    "DEMANDA (quitamos ccaa, cambiamos nombre de cod_ccaa a id_ccaa, mapeamos y metemos el id_anio)"
   ]
  },
  {
   "cell_type": "code",
   "execution_count": 28,
   "metadata": {},
   "outputs": [
    {
     "data": {
      "text/html": [
       "<div>\n",
       "<style scoped>\n",
       "    .dataframe tbody tr th:only-of-type {\n",
       "        vertical-align: middle;\n",
       "    }\n",
       "\n",
       "    .dataframe tbody tr th {\n",
       "        vertical-align: top;\n",
       "    }\n",
       "\n",
       "    .dataframe thead th {\n",
       "        text-align: right;\n",
       "    }\n",
       "</style>\n",
       "<table border=\"1\" class=\"dataframe\">\n",
       "  <thead>\n",
       "    <tr style=\"text-align: right;\">\n",
       "      <th></th>\n",
       "      <th>value</th>\n",
       "      <th>percentage</th>\n",
       "      <th>cod_ccaa</th>\n",
       "      <th>ccaa</th>\n",
       "      <th>month</th>\n",
       "      <th>year</th>\n",
       "    </tr>\n",
       "  </thead>\n",
       "  <tbody>\n",
       "    <tr>\n",
       "      <th>0</th>\n",
       "      <td>3668893.328</td>\n",
       "      <td>1</td>\n",
       "      <td>4</td>\n",
       "      <td>Andalucía</td>\n",
       "      <td>1</td>\n",
       "      <td>2019</td>\n",
       "    </tr>\n",
       "    <tr>\n",
       "      <th>1</th>\n",
       "      <td>3152278.091</td>\n",
       "      <td>1</td>\n",
       "      <td>4</td>\n",
       "      <td>Andalucía</td>\n",
       "      <td>2</td>\n",
       "      <td>2019</td>\n",
       "    </tr>\n",
       "    <tr>\n",
       "      <th>2</th>\n",
       "      <td>3216356.360</td>\n",
       "      <td>1</td>\n",
       "      <td>4</td>\n",
       "      <td>Andalucía</td>\n",
       "      <td>3</td>\n",
       "      <td>2019</td>\n",
       "    </tr>\n",
       "    <tr>\n",
       "      <th>3</th>\n",
       "      <td>3029639.973</td>\n",
       "      <td>1</td>\n",
       "      <td>4</td>\n",
       "      <td>Andalucía</td>\n",
       "      <td>4</td>\n",
       "      <td>2019</td>\n",
       "    </tr>\n",
       "    <tr>\n",
       "      <th>4</th>\n",
       "      <td>3154123.467</td>\n",
       "      <td>1</td>\n",
       "      <td>4</td>\n",
       "      <td>Andalucía</td>\n",
       "      <td>5</td>\n",
       "      <td>2019</td>\n",
       "    </tr>\n",
       "  </tbody>\n",
       "</table>\n",
       "</div>"
      ],
      "text/plain": [
       "         value  percentage  cod_ccaa       ccaa  month  year\n",
       "0  3668893.328           1         4  Andalucía      1  2019\n",
       "1  3152278.091           1         4  Andalucía      2  2019\n",
       "2  3216356.360           1         4  Andalucía      3  2019\n",
       "3  3029639.973           1         4  Andalucía      4  2019\n",
       "4  3154123.467           1         4  Andalucía      5  2019"
      ]
     },
     "execution_count": 28,
     "metadata": {},
     "output_type": "execute_result"
    }
   ],
   "source": [
    "df_todo_demanda.head()"
   ]
  },
  {
   "cell_type": "code",
   "execution_count": 29,
   "metadata": {},
   "outputs": [],
   "source": [
    "df_todo_demanda=df_todo_demanda.rename(columns={'cod_ccaa': \"id_ccaa\"})\n",
    "df_todo_demanda.drop(columns=\"ccaa\", inplace=True)"
   ]
  },
  {
   "cell_type": "code",
   "execution_count": 30,
   "metadata": {},
   "outputs": [
    {
     "data": {
      "text/html": [
       "<div>\n",
       "<style scoped>\n",
       "    .dataframe tbody tr th:only-of-type {\n",
       "        vertical-align: middle;\n",
       "    }\n",
       "\n",
       "    .dataframe tbody tr th {\n",
       "        vertical-align: top;\n",
       "    }\n",
       "\n",
       "    .dataframe thead th {\n",
       "        text-align: right;\n",
       "    }\n",
       "</style>\n",
       "<table border=\"1\" class=\"dataframe\">\n",
       "  <thead>\n",
       "    <tr style=\"text-align: right;\">\n",
       "      <th></th>\n",
       "      <th>value</th>\n",
       "      <th>percentage</th>\n",
       "      <th>id_ccaa</th>\n",
       "      <th>month</th>\n",
       "      <th>year</th>\n",
       "    </tr>\n",
       "  </thead>\n",
       "  <tbody>\n",
       "    <tr>\n",
       "      <th>0</th>\n",
       "      <td>3668893.328</td>\n",
       "      <td>1</td>\n",
       "      <td>4</td>\n",
       "      <td>1</td>\n",
       "      <td>2019</td>\n",
       "    </tr>\n",
       "    <tr>\n",
       "      <th>1</th>\n",
       "      <td>3152278.091</td>\n",
       "      <td>1</td>\n",
       "      <td>4</td>\n",
       "      <td>2</td>\n",
       "      <td>2019</td>\n",
       "    </tr>\n",
       "    <tr>\n",
       "      <th>2</th>\n",
       "      <td>3216356.360</td>\n",
       "      <td>1</td>\n",
       "      <td>4</td>\n",
       "      <td>3</td>\n",
       "      <td>2019</td>\n",
       "    </tr>\n",
       "    <tr>\n",
       "      <th>3</th>\n",
       "      <td>3029639.973</td>\n",
       "      <td>1</td>\n",
       "      <td>4</td>\n",
       "      <td>4</td>\n",
       "      <td>2019</td>\n",
       "    </tr>\n",
       "    <tr>\n",
       "      <th>4</th>\n",
       "      <td>3154123.467</td>\n",
       "      <td>1</td>\n",
       "      <td>4</td>\n",
       "      <td>5</td>\n",
       "      <td>2019</td>\n",
       "    </tr>\n",
       "  </tbody>\n",
       "</table>\n",
       "</div>"
      ],
      "text/plain": [
       "         value  percentage  id_ccaa  month  year\n",
       "0  3668893.328           1        4      1  2019\n",
       "1  3152278.091           1        4      2  2019\n",
       "2  3216356.360           1        4      3  2019\n",
       "3  3029639.973           1        4      4  2019\n",
       "4  3154123.467           1        4      5  2019"
      ]
     },
     "execution_count": 30,
     "metadata": {},
     "output_type": "execute_result"
    }
   ],
   "source": [
    "df_todo_demanda.head()"
   ]
  },
  {
   "cell_type": "code",
   "execution_count": 31,
   "metadata": {},
   "outputs": [
    {
     "data": {
      "text/plain": [
       "{2021: 1, 2020: 2, 2019: 3}"
      ]
     },
     "execution_count": 31,
     "metadata": {},
     "output_type": "execute_result"
    }
   ],
   "source": [
    "\n",
    "dicc_anio = df_anio.set_index('anio')['id_anio'].to_dict()\n",
    "dicc_anio"
   ]
  },
  {
   "cell_type": "code",
   "execution_count": 32,
   "metadata": {},
   "outputs": [],
   "source": [
    "\n",
    "df_todo_demanda['id_anio'] = df_todo_demanda['year'].map(dicc_anio)\n"
   ]
  },
  {
   "cell_type": "code",
   "execution_count": 33,
   "metadata": {},
   "outputs": [],
   "source": [
    "df_todo_demanda.drop(columns=\"year\", inplace=True)"
   ]
  },
  {
   "cell_type": "code",
   "execution_count": 34,
   "metadata": {},
   "outputs": [
    {
     "data": {
      "text/html": [
       "<div>\n",
       "<style scoped>\n",
       "    .dataframe tbody tr th:only-of-type {\n",
       "        vertical-align: middle;\n",
       "    }\n",
       "\n",
       "    .dataframe tbody tr th {\n",
       "        vertical-align: top;\n",
       "    }\n",
       "\n",
       "    .dataframe thead th {\n",
       "        text-align: right;\n",
       "    }\n",
       "</style>\n",
       "<table border=\"1\" class=\"dataframe\">\n",
       "  <thead>\n",
       "    <tr style=\"text-align: right;\">\n",
       "      <th></th>\n",
       "      <th>value</th>\n",
       "      <th>percentage</th>\n",
       "      <th>id_ccaa</th>\n",
       "      <th>month</th>\n",
       "      <th>id_anio</th>\n",
       "    </tr>\n",
       "  </thead>\n",
       "  <tbody>\n",
       "    <tr>\n",
       "      <th>0</th>\n",
       "      <td>3668893.328</td>\n",
       "      <td>1</td>\n",
       "      <td>4</td>\n",
       "      <td>1</td>\n",
       "      <td>3</td>\n",
       "    </tr>\n",
       "    <tr>\n",
       "      <th>1</th>\n",
       "      <td>3152278.091</td>\n",
       "      <td>1</td>\n",
       "      <td>4</td>\n",
       "      <td>2</td>\n",
       "      <td>3</td>\n",
       "    </tr>\n",
       "    <tr>\n",
       "      <th>2</th>\n",
       "      <td>3216356.360</td>\n",
       "      <td>1</td>\n",
       "      <td>4</td>\n",
       "      <td>3</td>\n",
       "      <td>3</td>\n",
       "    </tr>\n",
       "    <tr>\n",
       "      <th>3</th>\n",
       "      <td>3029639.973</td>\n",
       "      <td>1</td>\n",
       "      <td>4</td>\n",
       "      <td>4</td>\n",
       "      <td>3</td>\n",
       "    </tr>\n",
       "    <tr>\n",
       "      <th>4</th>\n",
       "      <td>3154123.467</td>\n",
       "      <td>1</td>\n",
       "      <td>4</td>\n",
       "      <td>5</td>\n",
       "      <td>3</td>\n",
       "    </tr>\n",
       "  </tbody>\n",
       "</table>\n",
       "</div>"
      ],
      "text/plain": [
       "         value  percentage  id_ccaa  month  id_anio\n",
       "0  3668893.328           1        4      1        3\n",
       "1  3152278.091           1        4      2        3\n",
       "2  3216356.360           1        4      3        3\n",
       "3  3029639.973           1        4      4        3\n",
       "4  3154123.467           1        4      5        3"
      ]
     },
     "execution_count": 34,
     "metadata": {},
     "output_type": "execute_result"
    }
   ],
   "source": [
    "df_todo_demanda.head()"
   ]
  },
  {
   "cell_type": "markdown",
   "metadata": {},
   "source": [
    "OFERTA"
   ]
  },
  {
   "cell_type": "code",
   "execution_count": 35,
   "metadata": {},
   "outputs": [
    {
     "data": {
      "text/html": [
       "<div>\n",
       "<style scoped>\n",
       "    .dataframe tbody tr th:only-of-type {\n",
       "        vertical-align: middle;\n",
       "    }\n",
       "\n",
       "    .dataframe tbody tr th {\n",
       "        vertical-align: top;\n",
       "    }\n",
       "\n",
       "    .dataframe thead th {\n",
       "        text-align: right;\n",
       "    }\n",
       "</style>\n",
       "<table border=\"1\" class=\"dataframe\">\n",
       "  <thead>\n",
       "    <tr style=\"text-align: right;\">\n",
       "      <th></th>\n",
       "      <th>value</th>\n",
       "      <th>percentage</th>\n",
       "      <th>type</th>\n",
       "      <th>cod_ccaa</th>\n",
       "      <th>ccaa</th>\n",
       "      <th>month</th>\n",
       "      <th>year</th>\n",
       "    </tr>\n",
       "  </thead>\n",
       "  <tbody>\n",
       "    <tr>\n",
       "      <th>0</th>\n",
       "      <td>25288.605</td>\n",
       "      <td>0.029517</td>\n",
       "      <td>Hidráulica</td>\n",
       "      <td>4</td>\n",
       "      <td>Andalucía</td>\n",
       "      <td>1</td>\n",
       "      <td>2019</td>\n",
       "    </tr>\n",
       "    <tr>\n",
       "      <th>1</th>\n",
       "      <td>33933.350</td>\n",
       "      <td>0.030779</td>\n",
       "      <td>Hidráulica</td>\n",
       "      <td>4</td>\n",
       "      <td>Andalucía</td>\n",
       "      <td>2</td>\n",
       "      <td>2019</td>\n",
       "    </tr>\n",
       "    <tr>\n",
       "      <th>2</th>\n",
       "      <td>35913.000</td>\n",
       "      <td>0.029645</td>\n",
       "      <td>Hidráulica</td>\n",
       "      <td>4</td>\n",
       "      <td>Andalucía</td>\n",
       "      <td>3</td>\n",
       "      <td>2019</td>\n",
       "    </tr>\n",
       "    <tr>\n",
       "      <th>3</th>\n",
       "      <td>44050.848</td>\n",
       "      <td>0.041340</td>\n",
       "      <td>Hidráulica</td>\n",
       "      <td>4</td>\n",
       "      <td>Andalucía</td>\n",
       "      <td>4</td>\n",
       "      <td>2019</td>\n",
       "    </tr>\n",
       "    <tr>\n",
       "      <th>4</th>\n",
       "      <td>88535.452</td>\n",
       "      <td>0.068497</td>\n",
       "      <td>Hidráulica</td>\n",
       "      <td>4</td>\n",
       "      <td>Andalucía</td>\n",
       "      <td>5</td>\n",
       "      <td>2019</td>\n",
       "    </tr>\n",
       "  </tbody>\n",
       "</table>\n",
       "</div>"
      ],
      "text/plain": [
       "       value  percentage        type  cod_ccaa       ccaa  month  year\n",
       "0  25288.605    0.029517  Hidráulica         4  Andalucía      1  2019\n",
       "1  33933.350    0.030779  Hidráulica         4  Andalucía      2  2019\n",
       "2  35913.000    0.029645  Hidráulica         4  Andalucía      3  2019\n",
       "3  44050.848    0.041340  Hidráulica         4  Andalucía      4  2019\n",
       "4  88535.452    0.068497  Hidráulica         4  Andalucía      5  2019"
      ]
     },
     "execution_count": 35,
     "metadata": {},
     "output_type": "execute_result"
    }
   ],
   "source": [
    "df_todo_oferta.head()"
   ]
  },
  {
   "cell_type": "code",
   "execution_count": 36,
   "metadata": {},
   "outputs": [],
   "source": [
    "df_todo_oferta=df_todo_oferta.rename(columns={'cod_ccaa': \"id_ccaa\"})\n",
    "df_todo_oferta.drop(columns=\"ccaa\", inplace=True)"
   ]
  },
  {
   "cell_type": "code",
   "execution_count": 37,
   "metadata": {},
   "outputs": [
    {
     "data": {
      "text/html": [
       "<div>\n",
       "<style scoped>\n",
       "    .dataframe tbody tr th:only-of-type {\n",
       "        vertical-align: middle;\n",
       "    }\n",
       "\n",
       "    .dataframe tbody tr th {\n",
       "        vertical-align: top;\n",
       "    }\n",
       "\n",
       "    .dataframe thead th {\n",
       "        text-align: right;\n",
       "    }\n",
       "</style>\n",
       "<table border=\"1\" class=\"dataframe\">\n",
       "  <thead>\n",
       "    <tr style=\"text-align: right;\">\n",
       "      <th></th>\n",
       "      <th>value</th>\n",
       "      <th>percentage</th>\n",
       "      <th>type</th>\n",
       "      <th>id_ccaa</th>\n",
       "      <th>month</th>\n",
       "      <th>year</th>\n",
       "    </tr>\n",
       "  </thead>\n",
       "  <tbody>\n",
       "    <tr>\n",
       "      <th>0</th>\n",
       "      <td>25288.605</td>\n",
       "      <td>0.029517</td>\n",
       "      <td>Hidráulica</td>\n",
       "      <td>4</td>\n",
       "      <td>1</td>\n",
       "      <td>2019</td>\n",
       "    </tr>\n",
       "    <tr>\n",
       "      <th>1</th>\n",
       "      <td>33933.350</td>\n",
       "      <td>0.030779</td>\n",
       "      <td>Hidráulica</td>\n",
       "      <td>4</td>\n",
       "      <td>2</td>\n",
       "      <td>2019</td>\n",
       "    </tr>\n",
       "    <tr>\n",
       "      <th>2</th>\n",
       "      <td>35913.000</td>\n",
       "      <td>0.029645</td>\n",
       "      <td>Hidráulica</td>\n",
       "      <td>4</td>\n",
       "      <td>3</td>\n",
       "      <td>2019</td>\n",
       "    </tr>\n",
       "    <tr>\n",
       "      <th>3</th>\n",
       "      <td>44050.848</td>\n",
       "      <td>0.041340</td>\n",
       "      <td>Hidráulica</td>\n",
       "      <td>4</td>\n",
       "      <td>4</td>\n",
       "      <td>2019</td>\n",
       "    </tr>\n",
       "    <tr>\n",
       "      <th>4</th>\n",
       "      <td>88535.452</td>\n",
       "      <td>0.068497</td>\n",
       "      <td>Hidráulica</td>\n",
       "      <td>4</td>\n",
       "      <td>5</td>\n",
       "      <td>2019</td>\n",
       "    </tr>\n",
       "  </tbody>\n",
       "</table>\n",
       "</div>"
      ],
      "text/plain": [
       "       value  percentage        type  id_ccaa  month  year\n",
       "0  25288.605    0.029517  Hidráulica        4      1  2019\n",
       "1  33933.350    0.030779  Hidráulica        4      2  2019\n",
       "2  35913.000    0.029645  Hidráulica        4      3  2019\n",
       "3  44050.848    0.041340  Hidráulica        4      4  2019\n",
       "4  88535.452    0.068497  Hidráulica        4      5  2019"
      ]
     },
     "execution_count": 37,
     "metadata": {},
     "output_type": "execute_result"
    }
   ],
   "source": [
    "df_todo_oferta.head()"
   ]
  },
  {
   "cell_type": "code",
   "execution_count": 38,
   "metadata": {},
   "outputs": [],
   "source": [
    "\n",
    "df_todo_oferta['id_anio'] = df_todo_oferta['year'].map(dicc_anio)\n"
   ]
  },
  {
   "cell_type": "code",
   "execution_count": 39,
   "metadata": {},
   "outputs": [
    {
     "data": {
      "text/plain": [
       "{'Hidráulica': 1,\n",
       " 'Eólica': 2,\n",
       " 'Solar fotovoltaica': 3,\n",
       " 'Solar térmica': 4,\n",
       " 'Otras renovables': 5,\n",
       " 'Hidroeólica': 6,\n",
       " 'Residuos renovables': 7}"
      ]
     },
     "execution_count": 39,
     "metadata": {},
     "output_type": "execute_result"
    }
   ],
   "source": [
    "dicc_type = df_type.set_index('type')['id_type'].to_dict()\n",
    "dicc_type"
   ]
  },
  {
   "cell_type": "code",
   "execution_count": 40,
   "metadata": {},
   "outputs": [],
   "source": [
    "df_todo_oferta['id_type'] = df_todo_oferta['type'].map(dicc_type)"
   ]
  },
  {
   "cell_type": "code",
   "execution_count": 41,
   "metadata": {},
   "outputs": [],
   "source": [
    "df_todo_oferta.drop(columns=\"year\", inplace=True)\n",
    "df_todo_oferta.drop(columns=\"type\", inplace=True)"
   ]
  },
  {
   "cell_type": "code",
   "execution_count": 42,
   "metadata": {},
   "outputs": [
    {
     "data": {
      "text/html": [
       "<div>\n",
       "<style scoped>\n",
       "    .dataframe tbody tr th:only-of-type {\n",
       "        vertical-align: middle;\n",
       "    }\n",
       "\n",
       "    .dataframe tbody tr th {\n",
       "        vertical-align: top;\n",
       "    }\n",
       "\n",
       "    .dataframe thead th {\n",
       "        text-align: right;\n",
       "    }\n",
       "</style>\n",
       "<table border=\"1\" class=\"dataframe\">\n",
       "  <thead>\n",
       "    <tr style=\"text-align: right;\">\n",
       "      <th></th>\n",
       "      <th>value</th>\n",
       "      <th>percentage</th>\n",
       "      <th>id_ccaa</th>\n",
       "      <th>month</th>\n",
       "      <th>id_anio</th>\n",
       "      <th>id_type</th>\n",
       "    </tr>\n",
       "  </thead>\n",
       "  <tbody>\n",
       "    <tr>\n",
       "      <th>0</th>\n",
       "      <td>25288.605</td>\n",
       "      <td>0.029517</td>\n",
       "      <td>4</td>\n",
       "      <td>1</td>\n",
       "      <td>3</td>\n",
       "      <td>1</td>\n",
       "    </tr>\n",
       "    <tr>\n",
       "      <th>1</th>\n",
       "      <td>33933.350</td>\n",
       "      <td>0.030779</td>\n",
       "      <td>4</td>\n",
       "      <td>2</td>\n",
       "      <td>3</td>\n",
       "      <td>1</td>\n",
       "    </tr>\n",
       "    <tr>\n",
       "      <th>2</th>\n",
       "      <td>35913.000</td>\n",
       "      <td>0.029645</td>\n",
       "      <td>4</td>\n",
       "      <td>3</td>\n",
       "      <td>3</td>\n",
       "      <td>1</td>\n",
       "    </tr>\n",
       "    <tr>\n",
       "      <th>3</th>\n",
       "      <td>44050.848</td>\n",
       "      <td>0.041340</td>\n",
       "      <td>4</td>\n",
       "      <td>4</td>\n",
       "      <td>3</td>\n",
       "      <td>1</td>\n",
       "    </tr>\n",
       "    <tr>\n",
       "      <th>4</th>\n",
       "      <td>88535.452</td>\n",
       "      <td>0.068497</td>\n",
       "      <td>4</td>\n",
       "      <td>5</td>\n",
       "      <td>3</td>\n",
       "      <td>1</td>\n",
       "    </tr>\n",
       "  </tbody>\n",
       "</table>\n",
       "</div>"
      ],
      "text/plain": [
       "       value  percentage  id_ccaa  month  id_anio  id_type\n",
       "0  25288.605    0.029517        4      1        3        1\n",
       "1  33933.350    0.030779        4      2        3        1\n",
       "2  35913.000    0.029645        4      3        3        1\n",
       "3  44050.848    0.041340        4      4        3        1\n",
       "4  88535.452    0.068497        4      5        3        1"
      ]
     },
     "execution_count": 42,
     "metadata": {},
     "output_type": "execute_result"
    }
   ],
   "source": [
    "df_todo_oferta.head()"
   ]
  },
  {
   "cell_type": "markdown",
   "metadata": {},
   "source": [
    "ECONOMICO"
   ]
  },
  {
   "cell_type": "code",
   "execution_count": 43,
   "metadata": {},
   "outputs": [
    {
     "data": {
      "text/html": [
       "<div>\n",
       "<style scoped>\n",
       "    .dataframe tbody tr th:only-of-type {\n",
       "        vertical-align: middle;\n",
       "    }\n",
       "\n",
       "    .dataframe tbody tr th {\n",
       "        vertical-align: top;\n",
       "    }\n",
       "\n",
       "    .dataframe thead th {\n",
       "        text-align: right;\n",
       "    }\n",
       "</style>\n",
       "<table border=\"1\" class=\"dataframe\">\n",
       "  <thead>\n",
       "    <tr style=\"text-align: right;\">\n",
       "      <th></th>\n",
       "      <th>periodo</th>\n",
       "      <th>Total</th>\n",
       "      <th>cod_prov</th>\n",
       "      <th>provincias</th>\n",
       "      <th>cod_actividad</th>\n",
       "      <th>ramas de actividad</th>\n",
       "    </tr>\n",
       "  </thead>\n",
       "  <tbody>\n",
       "    <tr>\n",
       "      <th>0</th>\n",
       "      <td>2021</td>\n",
       "      <td>884324</td>\n",
       "      <td>2</td>\n",
       "      <td>Albacete</td>\n",
       "      <td>1</td>\n",
       "      <td>Agricultura, ganadería, silvicultura y pesca</td>\n",
       "    </tr>\n",
       "    <tr>\n",
       "      <th>1</th>\n",
       "      <td>2020</td>\n",
       "      <td>768976</td>\n",
       "      <td>2</td>\n",
       "      <td>Albacete</td>\n",
       "      <td>1</td>\n",
       "      <td>Agricultura, ganadería, silvicultura y pesca</td>\n",
       "    </tr>\n",
       "    <tr>\n",
       "      <th>2</th>\n",
       "      <td>2019</td>\n",
       "      <td>791464</td>\n",
       "      <td>2</td>\n",
       "      <td>Albacete</td>\n",
       "      <td>1</td>\n",
       "      <td>Agricultura, ganadería, silvicultura y pesca</td>\n",
       "    </tr>\n",
       "    <tr>\n",
       "      <th>3</th>\n",
       "      <td>2021</td>\n",
       "      <td>1397006</td>\n",
       "      <td>2</td>\n",
       "      <td>Albacete</td>\n",
       "      <td>2</td>\n",
       "      <td>Industrias extractivas, industria manufacture...</td>\n",
       "    </tr>\n",
       "    <tr>\n",
       "      <th>4</th>\n",
       "      <td>2020</td>\n",
       "      <td>1194438</td>\n",
       "      <td>2</td>\n",
       "      <td>Albacete</td>\n",
       "      <td>2</td>\n",
       "      <td>Industrias extractivas, industria manufacture...</td>\n",
       "    </tr>\n",
       "  </tbody>\n",
       "</table>\n",
       "</div>"
      ],
      "text/plain": [
       "   periodo    Total  cod_prov provincias  cod_actividad  \\\n",
       "0     2021   884324         2   Albacete              1   \n",
       "1     2020   768976         2   Albacete              1   \n",
       "2     2019   791464         2   Albacete              1   \n",
       "3     2021  1397006         2   Albacete              2   \n",
       "4     2020  1194438         2   Albacete              2   \n",
       "\n",
       "                                  ramas de actividad  \n",
       "0       Agricultura, ganadería, silvicultura y pesca  \n",
       "1       Agricultura, ganadería, silvicultura y pesca  \n",
       "2       Agricultura, ganadería, silvicultura y pesca  \n",
       "3   Industrias extractivas, industria manufacture...  \n",
       "4   Industrias extractivas, industria manufacture...  "
      ]
     },
     "execution_count": 43,
     "metadata": {},
     "output_type": "execute_result"
    }
   ],
   "source": [
    "df_economico.head()"
   ]
  },
  {
   "cell_type": "code",
   "execution_count": 44,
   "metadata": {},
   "outputs": [],
   "source": [
    "df_economico=df_economico.rename(columns={'cod_actividad': \"id_actividad\"})\n",
    "df_economico=df_economico.rename(columns={'cod_prov': \"id_provincia\"})\n",
    "df_economico.drop(columns=\"ramas de actividad\", inplace=True)\n",
    "df_economico.drop(columns=\"provincias\", inplace=True)"
   ]
  },
  {
   "cell_type": "code",
   "execution_count": 45,
   "metadata": {},
   "outputs": [
    {
     "data": {
      "text/html": [
       "<div>\n",
       "<style scoped>\n",
       "    .dataframe tbody tr th:only-of-type {\n",
       "        vertical-align: middle;\n",
       "    }\n",
       "\n",
       "    .dataframe tbody tr th {\n",
       "        vertical-align: top;\n",
       "    }\n",
       "\n",
       "    .dataframe thead th {\n",
       "        text-align: right;\n",
       "    }\n",
       "</style>\n",
       "<table border=\"1\" class=\"dataframe\">\n",
       "  <thead>\n",
       "    <tr style=\"text-align: right;\">\n",
       "      <th></th>\n",
       "      <th>periodo</th>\n",
       "      <th>Total</th>\n",
       "      <th>id_provincia</th>\n",
       "      <th>id_actividad</th>\n",
       "    </tr>\n",
       "  </thead>\n",
       "  <tbody>\n",
       "    <tr>\n",
       "      <th>0</th>\n",
       "      <td>2021</td>\n",
       "      <td>884324</td>\n",
       "      <td>2</td>\n",
       "      <td>1</td>\n",
       "    </tr>\n",
       "    <tr>\n",
       "      <th>1</th>\n",
       "      <td>2020</td>\n",
       "      <td>768976</td>\n",
       "      <td>2</td>\n",
       "      <td>1</td>\n",
       "    </tr>\n",
       "    <tr>\n",
       "      <th>2</th>\n",
       "      <td>2019</td>\n",
       "      <td>791464</td>\n",
       "      <td>2</td>\n",
       "      <td>1</td>\n",
       "    </tr>\n",
       "    <tr>\n",
       "      <th>3</th>\n",
       "      <td>2021</td>\n",
       "      <td>1397006</td>\n",
       "      <td>2</td>\n",
       "      <td>2</td>\n",
       "    </tr>\n",
       "    <tr>\n",
       "      <th>4</th>\n",
       "      <td>2020</td>\n",
       "      <td>1194438</td>\n",
       "      <td>2</td>\n",
       "      <td>2</td>\n",
       "    </tr>\n",
       "  </tbody>\n",
       "</table>\n",
       "</div>"
      ],
      "text/plain": [
       "   periodo    Total  id_provincia  id_actividad\n",
       "0     2021   884324             2             1\n",
       "1     2020   768976             2             1\n",
       "2     2019   791464             2             1\n",
       "3     2021  1397006             2             2\n",
       "4     2020  1194438             2             2"
      ]
     },
     "execution_count": 45,
     "metadata": {},
     "output_type": "execute_result"
    }
   ],
   "source": [
    "df_economico.head()"
   ]
  },
  {
   "cell_type": "code",
   "execution_count": 47,
   "metadata": {},
   "outputs": [],
   "source": [
    "\n",
    "df_economico['id_anio'] = df_economico['periodo'].map(dicc_anio)\n"
   ]
  },
  {
   "cell_type": "code",
   "execution_count": 48,
   "metadata": {},
   "outputs": [],
   "source": [
    "df_economico.drop(columns=\"periodo\", inplace=True)\n"
   ]
  },
  {
   "cell_type": "code",
   "execution_count": 49,
   "metadata": {},
   "outputs": [
    {
     "data": {
      "text/html": [
       "<div>\n",
       "<style scoped>\n",
       "    .dataframe tbody tr th:only-of-type {\n",
       "        vertical-align: middle;\n",
       "    }\n",
       "\n",
       "    .dataframe tbody tr th {\n",
       "        vertical-align: top;\n",
       "    }\n",
       "\n",
       "    .dataframe thead th {\n",
       "        text-align: right;\n",
       "    }\n",
       "</style>\n",
       "<table border=\"1\" class=\"dataframe\">\n",
       "  <thead>\n",
       "    <tr style=\"text-align: right;\">\n",
       "      <th></th>\n",
       "      <th>Total</th>\n",
       "      <th>id_provincia</th>\n",
       "      <th>id_actividad</th>\n",
       "      <th>id_anio</th>\n",
       "    </tr>\n",
       "  </thead>\n",
       "  <tbody>\n",
       "    <tr>\n",
       "      <th>0</th>\n",
       "      <td>884324</td>\n",
       "      <td>2</td>\n",
       "      <td>1</td>\n",
       "      <td>1</td>\n",
       "    </tr>\n",
       "    <tr>\n",
       "      <th>1</th>\n",
       "      <td>768976</td>\n",
       "      <td>2</td>\n",
       "      <td>1</td>\n",
       "      <td>2</td>\n",
       "    </tr>\n",
       "    <tr>\n",
       "      <th>2</th>\n",
       "      <td>791464</td>\n",
       "      <td>2</td>\n",
       "      <td>1</td>\n",
       "      <td>3</td>\n",
       "    </tr>\n",
       "    <tr>\n",
       "      <th>3</th>\n",
       "      <td>1397006</td>\n",
       "      <td>2</td>\n",
       "      <td>2</td>\n",
       "      <td>1</td>\n",
       "    </tr>\n",
       "    <tr>\n",
       "      <th>4</th>\n",
       "      <td>1194438</td>\n",
       "      <td>2</td>\n",
       "      <td>2</td>\n",
       "      <td>2</td>\n",
       "    </tr>\n",
       "  </tbody>\n",
       "</table>\n",
       "</div>"
      ],
      "text/plain": [
       "     Total  id_provincia  id_actividad  id_anio\n",
       "0   884324             2             1        1\n",
       "1   768976             2             1        2\n",
       "2   791464             2             1        3\n",
       "3  1397006             2             2        1\n",
       "4  1194438             2             2        2"
      ]
     },
     "execution_count": 49,
     "metadata": {},
     "output_type": "execute_result"
    }
   ],
   "source": [
    "df_economico.head()"
   ]
  },
  {
   "cell_type": "markdown",
   "metadata": {},
   "source": [
    "POBLACIONAL"
   ]
  },
  {
   "cell_type": "code",
   "execution_count": 50,
   "metadata": {},
   "outputs": [
    {
     "data": {
      "text/html": [
       "<div>\n",
       "<style scoped>\n",
       "    .dataframe tbody tr th:only-of-type {\n",
       "        vertical-align: middle;\n",
       "    }\n",
       "\n",
       "    .dataframe tbody tr th {\n",
       "        vertical-align: top;\n",
       "    }\n",
       "\n",
       "    .dataframe thead th {\n",
       "        text-align: right;\n",
       "    }\n",
       "</style>\n",
       "<table border=\"1\" class=\"dataframe\">\n",
       "  <thead>\n",
       "    <tr style=\"text-align: right;\">\n",
       "      <th></th>\n",
       "      <th>Edad (3 grupos de edad)</th>\n",
       "      <th>Españoles/Extranjeros</th>\n",
       "      <th>Sexo</th>\n",
       "      <th>Año</th>\n",
       "      <th>Total</th>\n",
       "      <th>cod_prov</th>\n",
       "      <th>provincias</th>\n",
       "    </tr>\n",
       "  </thead>\n",
       "  <tbody>\n",
       "    <tr>\n",
       "      <th>0</th>\n",
       "      <td>0-15 años</td>\n",
       "      <td>Españoles</td>\n",
       "      <td>Hombres</td>\n",
       "      <td>2021</td>\n",
       "      <td>27304.0</td>\n",
       "      <td>2</td>\n",
       "      <td>Albacete</td>\n",
       "    </tr>\n",
       "    <tr>\n",
       "      <th>1</th>\n",
       "      <td>0-15 años</td>\n",
       "      <td>Españoles</td>\n",
       "      <td>Hombres</td>\n",
       "      <td>2020</td>\n",
       "      <td>27979.0</td>\n",
       "      <td>2</td>\n",
       "      <td>Albacete</td>\n",
       "    </tr>\n",
       "    <tr>\n",
       "      <th>2</th>\n",
       "      <td>0-15 años</td>\n",
       "      <td>Españoles</td>\n",
       "      <td>Hombres</td>\n",
       "      <td>2019</td>\n",
       "      <td>28513.0</td>\n",
       "      <td>2</td>\n",
       "      <td>Albacete</td>\n",
       "    </tr>\n",
       "    <tr>\n",
       "      <th>3</th>\n",
       "      <td>0-15 años</td>\n",
       "      <td>Españoles</td>\n",
       "      <td>Mujeres</td>\n",
       "      <td>2021</td>\n",
       "      <td>25547.0</td>\n",
       "      <td>2</td>\n",
       "      <td>Albacete</td>\n",
       "    </tr>\n",
       "    <tr>\n",
       "      <th>4</th>\n",
       "      <td>0-15 años</td>\n",
       "      <td>Españoles</td>\n",
       "      <td>Mujeres</td>\n",
       "      <td>2020</td>\n",
       "      <td>25953.0</td>\n",
       "      <td>2</td>\n",
       "      <td>Albacete</td>\n",
       "    </tr>\n",
       "  </tbody>\n",
       "</table>\n",
       "</div>"
      ],
      "text/plain": [
       "  Edad (3 grupos de edad) Españoles/Extranjeros     Sexo   Año    Total  \\\n",
       "0               0-15 años             Españoles  Hombres  2021  27304.0   \n",
       "1               0-15 años             Españoles  Hombres  2020  27979.0   \n",
       "2               0-15 años             Españoles  Hombres  2019  28513.0   \n",
       "3               0-15 años             Españoles  Mujeres  2021  25547.0   \n",
       "4               0-15 años             Españoles  Mujeres  2020  25953.0   \n",
       "\n",
       "   cod_prov provincias  \n",
       "0         2   Albacete  \n",
       "1         2   Albacete  \n",
       "2         2   Albacete  \n",
       "3         2   Albacete  \n",
       "4         2   Albacete  "
      ]
     },
     "execution_count": 50,
     "metadata": {},
     "output_type": "execute_result"
    }
   ],
   "source": [
    "df_poblacional.head()"
   ]
  },
  {
   "cell_type": "code",
   "execution_count": 51,
   "metadata": {},
   "outputs": [],
   "source": [
    "df_poblacional=df_poblacional.rename(columns={'cod_prov': \"id_provincia\"})\n",
    "df_poblacional.drop(columns=\"provincias\", inplace=True)"
   ]
  },
  {
   "cell_type": "code",
   "execution_count": 52,
   "metadata": {},
   "outputs": [
    {
     "data": {
      "text/html": [
       "<div>\n",
       "<style scoped>\n",
       "    .dataframe tbody tr th:only-of-type {\n",
       "        vertical-align: middle;\n",
       "    }\n",
       "\n",
       "    .dataframe tbody tr th {\n",
       "        vertical-align: top;\n",
       "    }\n",
       "\n",
       "    .dataframe thead th {\n",
       "        text-align: right;\n",
       "    }\n",
       "</style>\n",
       "<table border=\"1\" class=\"dataframe\">\n",
       "  <thead>\n",
       "    <tr style=\"text-align: right;\">\n",
       "      <th></th>\n",
       "      <th>Edad (3 grupos de edad)</th>\n",
       "      <th>Españoles/Extranjeros</th>\n",
       "      <th>Sexo</th>\n",
       "      <th>Año</th>\n",
       "      <th>Total</th>\n",
       "      <th>id_provincia</th>\n",
       "    </tr>\n",
       "  </thead>\n",
       "  <tbody>\n",
       "    <tr>\n",
       "      <th>0</th>\n",
       "      <td>0-15 años</td>\n",
       "      <td>Españoles</td>\n",
       "      <td>Hombres</td>\n",
       "      <td>2021</td>\n",
       "      <td>27304.0</td>\n",
       "      <td>2</td>\n",
       "    </tr>\n",
       "    <tr>\n",
       "      <th>1</th>\n",
       "      <td>0-15 años</td>\n",
       "      <td>Españoles</td>\n",
       "      <td>Hombres</td>\n",
       "      <td>2020</td>\n",
       "      <td>27979.0</td>\n",
       "      <td>2</td>\n",
       "    </tr>\n",
       "    <tr>\n",
       "      <th>2</th>\n",
       "      <td>0-15 años</td>\n",
       "      <td>Españoles</td>\n",
       "      <td>Hombres</td>\n",
       "      <td>2019</td>\n",
       "      <td>28513.0</td>\n",
       "      <td>2</td>\n",
       "    </tr>\n",
       "    <tr>\n",
       "      <th>3</th>\n",
       "      <td>0-15 años</td>\n",
       "      <td>Españoles</td>\n",
       "      <td>Mujeres</td>\n",
       "      <td>2021</td>\n",
       "      <td>25547.0</td>\n",
       "      <td>2</td>\n",
       "    </tr>\n",
       "    <tr>\n",
       "      <th>4</th>\n",
       "      <td>0-15 años</td>\n",
       "      <td>Españoles</td>\n",
       "      <td>Mujeres</td>\n",
       "      <td>2020</td>\n",
       "      <td>25953.0</td>\n",
       "      <td>2</td>\n",
       "    </tr>\n",
       "  </tbody>\n",
       "</table>\n",
       "</div>"
      ],
      "text/plain": [
       "  Edad (3 grupos de edad) Españoles/Extranjeros     Sexo   Año    Total  \\\n",
       "0               0-15 años             Españoles  Hombres  2021  27304.0   \n",
       "1               0-15 años             Españoles  Hombres  2020  27979.0   \n",
       "2               0-15 años             Españoles  Hombres  2019  28513.0   \n",
       "3               0-15 años             Españoles  Mujeres  2021  25547.0   \n",
       "4               0-15 años             Españoles  Mujeres  2020  25953.0   \n",
       "\n",
       "   id_provincia  \n",
       "0             2  \n",
       "1             2  \n",
       "2             2  \n",
       "3             2  \n",
       "4             2  "
      ]
     },
     "execution_count": 52,
     "metadata": {},
     "output_type": "execute_result"
    }
   ],
   "source": [
    "df_poblacional.head()"
   ]
  },
  {
   "cell_type": "code",
   "execution_count": 53,
   "metadata": {},
   "outputs": [],
   "source": [
    "dicc_edad = df_edad.set_index('rango_edad')['id_rango_edad'].to_dict()\n",
    "dicc_nac = df_nacionalidad.set_index('nacionalidad')['id_nacionalidad'].to_dict()\n",
    "dicc_sexo = df_sexo.set_index('sexo')['id_sexo'].to_dict()\n"
   ]
  },
  {
   "cell_type": "code",
   "execution_count": 54,
   "metadata": {},
   "outputs": [],
   "source": [
    "df_poblacional['id_rango_edad'] = df_poblacional['Edad (3 grupos de edad)'].map(dicc_edad)\n",
    "df_poblacional['id_nacionalidad'] = df_poblacional['Españoles/Extranjeros'].map(dicc_nac)\n",
    "df_poblacional['id_sexo'] = df_poblacional['Sexo'].map(dicc_sexo)\n",
    "df_poblacional['id_anio'] = df_poblacional['Año'].map(dicc_anio)\n"
   ]
  },
  {
   "cell_type": "code",
   "execution_count": 55,
   "metadata": {},
   "outputs": [],
   "source": [
    "df_poblacional.drop(columns=\"Edad (3 grupos de edad)\", inplace=True)\n",
    "df_poblacional.drop(columns=\"Españoles/Extranjeros\", inplace=True)\n",
    "df_poblacional.drop(columns=\"Sexo\", inplace=True)\n",
    "df_poblacional.drop(columns=\"Año\", inplace=True)"
   ]
  },
  {
   "cell_type": "code",
   "execution_count": 56,
   "metadata": {},
   "outputs": [
    {
     "data": {
      "text/html": [
       "<div>\n",
       "<style scoped>\n",
       "    .dataframe tbody tr th:only-of-type {\n",
       "        vertical-align: middle;\n",
       "    }\n",
       "\n",
       "    .dataframe tbody tr th {\n",
       "        vertical-align: top;\n",
       "    }\n",
       "\n",
       "    .dataframe thead th {\n",
       "        text-align: right;\n",
       "    }\n",
       "</style>\n",
       "<table border=\"1\" class=\"dataframe\">\n",
       "  <thead>\n",
       "    <tr style=\"text-align: right;\">\n",
       "      <th></th>\n",
       "      <th>Total</th>\n",
       "      <th>id_provincia</th>\n",
       "      <th>id_rango_edad</th>\n",
       "      <th>id_nacionalidad</th>\n",
       "      <th>id_sexo</th>\n",
       "      <th>id_anio</th>\n",
       "    </tr>\n",
       "  </thead>\n",
       "  <tbody>\n",
       "    <tr>\n",
       "      <th>0</th>\n",
       "      <td>27304.0</td>\n",
       "      <td>2</td>\n",
       "      <td>1</td>\n",
       "      <td>1</td>\n",
       "      <td>1</td>\n",
       "      <td>1</td>\n",
       "    </tr>\n",
       "    <tr>\n",
       "      <th>1</th>\n",
       "      <td>27979.0</td>\n",
       "      <td>2</td>\n",
       "      <td>1</td>\n",
       "      <td>1</td>\n",
       "      <td>1</td>\n",
       "      <td>2</td>\n",
       "    </tr>\n",
       "    <tr>\n",
       "      <th>2</th>\n",
       "      <td>28513.0</td>\n",
       "      <td>2</td>\n",
       "      <td>1</td>\n",
       "      <td>1</td>\n",
       "      <td>1</td>\n",
       "      <td>3</td>\n",
       "    </tr>\n",
       "    <tr>\n",
       "      <th>3</th>\n",
       "      <td>25547.0</td>\n",
       "      <td>2</td>\n",
       "      <td>1</td>\n",
       "      <td>1</td>\n",
       "      <td>2</td>\n",
       "      <td>1</td>\n",
       "    </tr>\n",
       "    <tr>\n",
       "      <th>4</th>\n",
       "      <td>25953.0</td>\n",
       "      <td>2</td>\n",
       "      <td>1</td>\n",
       "      <td>1</td>\n",
       "      <td>2</td>\n",
       "      <td>2</td>\n",
       "    </tr>\n",
       "  </tbody>\n",
       "</table>\n",
       "</div>"
      ],
      "text/plain": [
       "     Total  id_provincia  id_rango_edad  id_nacionalidad  id_sexo  id_anio\n",
       "0  27304.0             2              1                1        1        1\n",
       "1  27979.0             2              1                1        1        2\n",
       "2  28513.0             2              1                1        1        3\n",
       "3  25547.0             2              1                1        2        1\n",
       "4  25953.0             2              1                1        2        2"
      ]
     },
     "execution_count": 56,
     "metadata": {},
     "output_type": "execute_result"
    }
   ],
   "source": [
    "df_poblacional.head()"
   ]
  }
 ],
 "metadata": {
  "kernelspec": {
   "display_name": "Python 3",
   "language": "python",
   "name": "python3"
  },
  "language_info": {
   "codemirror_mode": {
    "name": "ipython",
    "version": 3
   },
   "file_extension": ".py",
   "mimetype": "text/x-python",
   "name": "python",
   "nbconvert_exporter": "python",
   "pygments_lexer": "ipython3",
   "version": "3.11.9"
  }
 },
 "nbformat": 4,
 "nbformat_minor": 2
}
